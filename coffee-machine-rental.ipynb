{
 "cells": [
  {
   "cell_type": "code",
   "execution_count": 1,
   "metadata": {
    "_cell_guid": "b1076dfc-b9ad-4769-8c92-a6c4dae69d19",
    "_uuid": "8f2839f25d086af736a60e9eeb907d3b93b6e0e5",
    "execution": {
     "iopub.execute_input": "2021-01-11T20:36:03.259603Z",
     "iopub.status.busy": "2021-01-11T20:36:03.258868Z",
     "iopub.status.idle": "2021-01-11T20:36:03.272225Z",
     "shell.execute_reply": "2021-01-11T20:36:03.271600Z"
    },
    "papermill": {
     "duration": 0.049587,
     "end_time": "2021-01-11T20:36:03.272335",
     "exception": false,
     "start_time": "2021-01-11T20:36:03.222748",
     "status": "completed"
    },
    "tags": []
   },
   "outputs": [
    {
     "name": "stdout",
     "output_type": "stream",
     "text": [
      "/kaggle/input/coffee-machines-rental/coffee-machine-kaggle.csv\n"
     ]
    }
   ],
   "source": [
    "# This Python 3 environment comes with many helpful analytics libraries installed\n",
    "# It is defined by the kaggle/python Docker image: https://github.com/kaggle/docker-python\n",
    "# For example, here's several helpful packages to load\n",
    "\n",
    "import numpy as np # linear algebra\n",
    "import pandas as pd # data processing, CSV file I/O (e.g. pd.read_csv)\n",
    "\n",
    "# Input data files are available in the read-only \"../input/\" directory\n",
    "# For example, running this (by clicking run or pressing Shift+Enter) will list all files under the input directory\n",
    "\n",
    "import os\n",
    "for dirname, _, filenames in os.walk('/kaggle/input'):\n",
    "    for filename in filenames:\n",
    "        print(os.path.join(dirname, filename))\n",
    "\n",
    "# You can write up to 20GB to the current directory (/kaggle/working/) that gets preserved as output when you create a version using \"Save & Run All\" \n",
    "# You can also write temporary files to /kaggle/temp/, but they won't be saved outside of the current session"
   ]
  },
  {
   "cell_type": "markdown",
   "metadata": {
    "papermill": {
     "duration": 0.02885,
     "end_time": "2021-01-11T20:36:03.331043",
     "exception": false,
     "start_time": "2021-01-11T20:36:03.302193",
     "status": "completed"
    },
    "tags": []
   },
   "source": [
    "**Import data**"
   ]
  },
  {
   "cell_type": "code",
   "execution_count": 2,
   "metadata": {
    "execution": {
     "iopub.execute_input": "2021-01-11T20:36:03.394944Z",
     "iopub.status.busy": "2021-01-11T20:36:03.394026Z",
     "iopub.status.idle": "2021-01-11T20:36:04.477920Z",
     "shell.execute_reply": "2021-01-11T20:36:04.478596Z"
    },
    "papermill": {
     "duration": 1.1187,
     "end_time": "2021-01-11T20:36:04.478764",
     "exception": false,
     "start_time": "2021-01-11T20:36:03.360064",
     "status": "completed"
    },
    "tags": []
   },
   "outputs": [],
   "source": [
    "import matplotlib.pyplot as plt\n",
    "import seaborn as sns"
   ]
  },
  {
   "cell_type": "code",
   "execution_count": 3,
   "metadata": {
    "_cell_guid": "79c7e3d0-c299-4dcb-8224-4455121ee9b0",
    "_uuid": "d629ff2d2480ee46fbb7e2d37f6b5fab8052498a",
    "execution": {
     "iopub.execute_input": "2021-01-11T20:36:04.574046Z",
     "iopub.status.busy": "2021-01-11T20:36:04.573365Z",
     "iopub.status.idle": "2021-01-11T20:36:04.586804Z",
     "shell.execute_reply": "2021-01-11T20:36:04.586127Z"
    },
    "papermill": {
     "duration": 0.062633,
     "end_time": "2021-01-11T20:36:04.586926",
     "exception": false,
     "start_time": "2021-01-11T20:36:04.524293",
     "status": "completed"
    },
    "tags": []
   },
   "outputs": [],
   "source": [
    "base = pd.read_csv('../input/coffee-machines-rental/coffee-machine-kaggle.csv')"
   ]
  },
  {
   "cell_type": "markdown",
   "metadata": {
    "papermill": {
     "duration": 0.028223,
     "end_time": "2021-01-11T20:36:04.643895",
     "exception": false,
     "start_time": "2021-01-11T20:36:04.615672",
     "status": "completed"
    },
    "tags": []
   },
   "source": [
    "As we can analyze we have 110 records and 10 columns with one being our objective."
   ]
  },
  {
   "cell_type": "code",
   "execution_count": 4,
   "metadata": {
    "execution": {
     "iopub.execute_input": "2021-01-11T20:36:04.704475Z",
     "iopub.status.busy": "2021-01-11T20:36:04.703489Z",
     "iopub.status.idle": "2021-01-11T20:36:04.781730Z",
     "shell.execute_reply": "2021-01-11T20:36:04.781079Z"
    },
    "papermill": {
     "duration": 0.109612,
     "end_time": "2021-01-11T20:36:04.781837",
     "exception": false,
     "start_time": "2021-01-11T20:36:04.672225",
     "status": "completed"
    },
    "tags": []
   },
   "outputs": [
    {
     "data": {
      "text/html": [
       "<div>\n",
       "<style scoped>\n",
       "    .dataframe tbody tr th:only-of-type {\n",
       "        vertical-align: middle;\n",
       "    }\n",
       "\n",
       "    .dataframe tbody tr th {\n",
       "        vertical-align: top;\n",
       "    }\n",
       "\n",
       "    .dataframe thead th {\n",
       "        text-align: right;\n",
       "    }\n",
       "</style>\n",
       "<table border=\"1\" class=\"dataframe\">\n",
       "  <thead>\n",
       "    <tr style=\"text-align: right;\">\n",
       "      <th></th>\n",
       "      <th>customers</th>\n",
       "      <th>protests</th>\n",
       "      <th>amount due</th>\n",
       "      <th>rent amount</th>\n",
       "      <th>city</th>\n",
       "      <th>commerce</th>\n",
       "      <th>consumes</th>\n",
       "      <th>equipment</th>\n",
       "      <th>target</th>\n",
       "    </tr>\n",
       "  </thead>\n",
       "  <tbody>\n",
       "    <tr>\n",
       "      <th>85</th>\n",
       "      <td>customer-86</td>\n",
       "      <td>0</td>\n",
       "      <td>0</td>\n",
       "      <td>5600</td>\n",
       "      <td>city_1</td>\n",
       "      <td>commerce_3</td>\n",
       "      <td>1</td>\n",
       "      <td>equipment_2</td>\n",
       "      <td>1</td>\n",
       "    </tr>\n",
       "    <tr>\n",
       "      <th>10</th>\n",
       "      <td>customer-11</td>\n",
       "      <td>200</td>\n",
       "      <td>5951620</td>\n",
       "      <td>7200</td>\n",
       "      <td>city_1</td>\n",
       "      <td>commerce_3</td>\n",
       "      <td>1</td>\n",
       "      <td>equipment_1</td>\n",
       "      <td>0</td>\n",
       "    </tr>\n",
       "    <tr>\n",
       "      <th>75</th>\n",
       "      <td>customer-76</td>\n",
       "      <td>0</td>\n",
       "      <td>0</td>\n",
       "      <td>6000</td>\n",
       "      <td>city_1</td>\n",
       "      <td>commerce_2</td>\n",
       "      <td>1</td>\n",
       "      <td>equipment_2</td>\n",
       "      <td>1</td>\n",
       "    </tr>\n",
       "    <tr>\n",
       "      <th>2</th>\n",
       "      <td>customer-3</td>\n",
       "      <td>0</td>\n",
       "      <td>0</td>\n",
       "      <td>5000</td>\n",
       "      <td>city_2</td>\n",
       "      <td>commerce_4</td>\n",
       "      <td>0</td>\n",
       "      <td>equipment_1</td>\n",
       "      <td>1</td>\n",
       "    </tr>\n",
       "    <tr>\n",
       "      <th>24</th>\n",
       "      <td>customer-25</td>\n",
       "      <td>0</td>\n",
       "      <td>0</td>\n",
       "      <td>9000</td>\n",
       "      <td>city_1</td>\n",
       "      <td>commerce_2</td>\n",
       "      <td>0</td>\n",
       "      <td>equipment_1</td>\n",
       "      <td>1</td>\n",
       "    </tr>\n",
       "    <tr>\n",
       "      <th>...</th>\n",
       "      <td>...</td>\n",
       "      <td>...</td>\n",
       "      <td>...</td>\n",
       "      <td>...</td>\n",
       "      <td>...</td>\n",
       "      <td>...</td>\n",
       "      <td>...</td>\n",
       "      <td>...</td>\n",
       "      <td>...</td>\n",
       "    </tr>\n",
       "    <tr>\n",
       "      <th>106</th>\n",
       "      <td>customer-107</td>\n",
       "      <td>280</td>\n",
       "      <td>102900</td>\n",
       "      <td>8000</td>\n",
       "      <td>city_4</td>\n",
       "      <td>commerce_2</td>\n",
       "      <td>0</td>\n",
       "      <td>equipment_1</td>\n",
       "      <td>0</td>\n",
       "    </tr>\n",
       "    <tr>\n",
       "      <th>67</th>\n",
       "      <td>customer-68</td>\n",
       "      <td>1360</td>\n",
       "      <td>1765060</td>\n",
       "      <td>7000</td>\n",
       "      <td>city_1</td>\n",
       "      <td>commerce_3</td>\n",
       "      <td>1</td>\n",
       "      <td>equipment_1</td>\n",
       "      <td>1</td>\n",
       "    </tr>\n",
       "    <tr>\n",
       "      <th>64</th>\n",
       "      <td>customer-65</td>\n",
       "      <td>0</td>\n",
       "      <td>0</td>\n",
       "      <td>8000</td>\n",
       "      <td>city_4</td>\n",
       "      <td>commerce_2</td>\n",
       "      <td>0</td>\n",
       "      <td>equipment_1</td>\n",
       "      <td>0</td>\n",
       "    </tr>\n",
       "    <tr>\n",
       "      <th>47</th>\n",
       "      <td>customer-48</td>\n",
       "      <td>20</td>\n",
       "      <td>6060</td>\n",
       "      <td>3000</td>\n",
       "      <td>city_4</td>\n",
       "      <td>commerce_4</td>\n",
       "      <td>1</td>\n",
       "      <td>equipment_3</td>\n",
       "      <td>0</td>\n",
       "    </tr>\n",
       "    <tr>\n",
       "      <th>44</th>\n",
       "      <td>customer-45</td>\n",
       "      <td>0</td>\n",
       "      <td>0</td>\n",
       "      <td>7200</td>\n",
       "      <td>city_8</td>\n",
       "      <td>commerce_2</td>\n",
       "      <td>1</td>\n",
       "      <td>equipment_1</td>\n",
       "      <td>1</td>\n",
       "    </tr>\n",
       "  </tbody>\n",
       "</table>\n",
       "<p>110 rows × 9 columns</p>\n",
       "</div>"
      ],
      "text/plain": [
       "        customers  protests  amount due  rent amount    city    commerce  \\\n",
       "85    customer-86         0           0         5600  city_1  commerce_3   \n",
       "10    customer-11       200     5951620         7200  city_1  commerce_3   \n",
       "75    customer-76         0           0         6000  city_1  commerce_2   \n",
       "2      customer-3         0           0         5000  city_2  commerce_4   \n",
       "24    customer-25         0           0         9000  city_1  commerce_2   \n",
       "..            ...       ...         ...          ...     ...         ...   \n",
       "106  customer-107       280      102900         8000  city_4  commerce_2   \n",
       "67    customer-68      1360     1765060         7000  city_1  commerce_3   \n",
       "64    customer-65         0           0         8000  city_4  commerce_2   \n",
       "47    customer-48        20        6060         3000  city_4  commerce_4   \n",
       "44    customer-45         0           0         7200  city_8  commerce_2   \n",
       "\n",
       "     consumes    equipment  target  \n",
       "85          1  equipment_2       1  \n",
       "10          1  equipment_1       0  \n",
       "75          1  equipment_2       1  \n",
       "2           0  equipment_1       1  \n",
       "24          0  equipment_1       1  \n",
       "..        ...          ...     ...  \n",
       "106         0  equipment_1       0  \n",
       "67          1  equipment_1       1  \n",
       "64          0  equipment_1       0  \n",
       "47          1  equipment_3       0  \n",
       "44          1  equipment_1       1  \n",
       "\n",
       "[110 rows x 9 columns]"
      ]
     },
     "execution_count": 4,
     "metadata": {},
     "output_type": "execute_result"
    }
   ],
   "source": [
    "from sklearn.utils import shuffle\n",
    "base = shuffle(base, random_state = 0)\n",
    "base"
   ]
  },
  {
   "cell_type": "code",
   "execution_count": 5,
   "metadata": {
    "execution": {
     "iopub.execute_input": "2021-01-11T20:36:04.851869Z",
     "iopub.status.busy": "2021-01-11T20:36:04.848920Z",
     "iopub.status.idle": "2021-01-11T20:36:04.863414Z",
     "shell.execute_reply": "2021-01-11T20:36:04.862711Z"
    },
    "papermill": {
     "duration": 0.050793,
     "end_time": "2021-01-11T20:36:04.863563",
     "exception": false,
     "start_time": "2021-01-11T20:36:04.812770",
     "status": "completed"
    },
    "tags": []
   },
   "outputs": [
    {
     "name": "stdout",
     "output_type": "stream",
     "text": [
      "<class 'pandas.core.frame.DataFrame'>\n",
      "Int64Index: 110 entries, 85 to 44\n",
      "Data columns (total 9 columns):\n",
      " #   Column       Non-Null Count  Dtype \n",
      "---  ------       --------------  ----- \n",
      " 0   customers    110 non-null    object\n",
      " 1   protests     110 non-null    int64 \n",
      " 2   amount due   110 non-null    int64 \n",
      " 3   rent amount  110 non-null    int64 \n",
      " 4   city         110 non-null    object\n",
      " 5   commerce     110 non-null    object\n",
      " 6   consumes     110 non-null    int64 \n",
      " 7   equipment    110 non-null    object\n",
      " 8   target       110 non-null    int64 \n",
      "dtypes: int64(5), object(4)\n",
      "memory usage: 8.6+ KB\n"
     ]
    }
   ],
   "source": [
    "base.info()"
   ]
  },
  {
   "cell_type": "markdown",
   "metadata": {
    "papermill": {
     "duration": 0.044743,
     "end_time": "2021-01-11T20:36:04.953820",
     "exception": false,
     "start_time": "2021-01-11T20:36:04.909077",
     "status": "completed"
    },
    "tags": []
   },
   "source": [
    "**Data Analysis**"
   ]
  },
  {
   "cell_type": "markdown",
   "metadata": {
    "papermill": {
     "duration": 0.044906,
     "end_time": "2021-01-11T20:36:05.043818",
     "exception": false,
     "start_time": "2021-01-11T20:36:04.998912",
     "status": "completed"
    },
    "tags": []
   },
   "source": [
    "Will analyze we target columns"
   ]
  },
  {
   "cell_type": "code",
   "execution_count": 6,
   "metadata": {
    "execution": {
     "iopub.execute_input": "2021-01-11T20:36:05.141238Z",
     "iopub.status.busy": "2021-01-11T20:36:05.140425Z",
     "iopub.status.idle": "2021-01-11T20:36:05.360616Z",
     "shell.execute_reply": "2021-01-11T20:36:05.359213Z"
    },
    "papermill": {
     "duration": 0.271991,
     "end_time": "2021-01-11T20:36:05.360788",
     "exception": false,
     "start_time": "2021-01-11T20:36:05.088797",
     "status": "completed"
    },
    "tags": []
   },
   "outputs": [
    {
     "data": {
      "image/png": "[encoded data removed]",
      "text/plain": [
       "<Figure size 720x720 with 1 Axes>"
      ]
     },
     "metadata": {
      "needs_background": "light"
     },
     "output_type": "display_data"
    }
   ],
   "source": [
    "plt.figure(figsize=(10,10))\n",
    "ax = sns.countplot(x=\"target\", data=base)\n",
    "plt.title(\"Comparation\")\n",
    "ax.set(xlabel='0 - No / 1 - Yes', ylabel='Amount')\n",
    "plt.show()"
   ]
  },
  {
   "cell_type": "markdown",
   "metadata": {
    "papermill": {
     "duration": 0.045756,
     "end_time": "2021-01-11T20:36:05.452993",
     "exception": false,
     "start_time": "2021-01-11T20:36:05.407237",
     "status": "completed"
    },
    "tags": []
   },
   "source": [
    "*We can see that the customers bad payers often to have protests*"
   ]
  },
  {
   "cell_type": "code",
   "execution_count": 7,
   "metadata": {
    "execution": {
     "iopub.execute_input": "2021-01-11T20:36:05.560718Z",
     "iopub.status.busy": "2021-01-11T20:36:05.557304Z",
     "iopub.status.idle": "2021-01-11T20:36:06.081445Z",
     "shell.execute_reply": "2021-01-11T20:36:06.080806Z"
    },
    "papermill": {
     "duration": 0.58274,
     "end_time": "2021-01-11T20:36:06.081578",
     "exception": false,
     "start_time": "2021-01-11T20:36:05.498838",
     "status": "completed"
    },
    "tags": []
   },
   "outputs": [
    {
     "data": {
      "image/png": "[encoded data removed]",
      "text/plain": [
       "<Figure size 1080x720 with 1 Axes>"
      ]
     },
     "metadata": {
      "needs_background": "light"
     },
     "output_type": "display_data"
    }
   ],
   "source": [
    "plt.figure(figsize=(15,10))\n",
    "ax = sns.countplot(x=\"protests\", hue=\"target\", data=base)\n",
    "plt.title(\"Comparation with protests\")\n",
    "ax.set(xlabel='Amount protests', ylabel='Amount')\n",
    "plt.show()"
   ]
  },
  {
   "cell_type": "code",
   "execution_count": 8,
   "metadata": {
    "execution": {
     "iopub.execute_input": "2021-01-11T20:36:06.152789Z",
     "iopub.status.busy": "2021-01-11T20:36:06.152147Z",
     "iopub.status.idle": "2021-01-11T20:36:06.373961Z",
     "shell.execute_reply": "2021-01-11T20:36:06.374451Z"
    },
    "papermill": {
     "duration": 0.260622,
     "end_time": "2021-01-11T20:36:06.374623",
     "exception": false,
     "start_time": "2021-01-11T20:36:06.114001",
     "status": "completed"
    },
    "tags": []
   },
   "outputs": [
    {
     "data": {
      "image/png": "[encoded data removed]",
      "text/plain": [
       "<Figure size 720x720 with 1 Axes>"
      ]
     },
     "metadata": {
      "needs_background": "light"
     },
     "output_type": "display_data"
    }
   ],
   "source": [
    "plt.figure(figsize=(10,10))\n",
    "ax = sns.countplot(x=\"city\", hue='target', data=base)\n",
    "plt.title(\"Comparing between citys\")\n",
    "ax.set(xlabel='City', ylabel='Amounts')\n",
    "plt.show()"
   ]
  },
  {
   "cell_type": "code",
   "execution_count": 9,
   "metadata": {
    "execution": {
     "iopub.execute_input": "2021-01-11T20:36:06.443848Z",
     "iopub.status.busy": "2021-01-11T20:36:06.443193Z",
     "iopub.status.idle": "2021-01-11T20:36:06.641358Z",
     "shell.execute_reply": "2021-01-11T20:36:06.641907Z"
    },
    "papermill": {
     "duration": 0.233736,
     "end_time": "2021-01-11T20:36:06.642029",
     "exception": false,
     "start_time": "2021-01-11T20:36:06.408293",
     "status": "completed"
    },
    "tags": []
   },
   "outputs": [
    {
     "data": {
      "image/png": "[encoded data removed]",
      "text/plain": [
       "<Figure size 720x720 with 1 Axes>"
      ]
     },
     "metadata": {
      "needs_background": "light"
     },
     "output_type": "display_data"
    }
   ],
   "source": [
    "plt.figure(figsize=(10,10))\n",
    "ax = sns.countplot(x=\"commerce\", hue='target', data=base)\n",
    "plt.title(\"Comparing between commerce\")\n",
    "ax.set(xlabel='Commerce', ylabel='Amounts')\n",
    "plt.show()"
   ]
  },
  {
   "cell_type": "code",
   "execution_count": 10,
   "metadata": {
    "execution": {
     "iopub.execute_input": "2021-01-11T20:36:06.797272Z",
     "iopub.status.busy": "2021-01-11T20:36:06.791750Z",
     "iopub.status.idle": "2021-01-11T20:36:07.232829Z",
     "shell.execute_reply": "2021-01-11T20:36:07.232233Z"
    },
    "papermill": {
     "duration": 0.557607,
     "end_time": "2021-01-11T20:36:07.232939",
     "exception": false,
     "start_time": "2021-01-11T20:36:06.675332",
     "status": "completed"
    },
    "tags": []
   },
   "outputs": [
    {
     "data": {
      "image/png": "[encoded data removed]",
      "text/plain": [
       "<Figure size 1080x720 with 1 Axes>"
      ]
     },
     "metadata": {
      "needs_background": "light"
     },
     "output_type": "display_data"
    }
   ],
   "source": [
    "plt.figure(figsize=(15,10))\n",
    "ax = sns.countplot(x=\"rent amount\", hue='target', data=base)\n",
    "plt.title(\"Comparing between rent amount\")\n",
    "ax.set(xlabel='rent amount', ylabel='Amounts')\n",
    "plt.show()"
   ]
  },
  {
   "cell_type": "code",
   "execution_count": 11,
   "metadata": {
    "execution": {
     "iopub.execute_input": "2021-01-11T20:36:07.330587Z",
     "iopub.status.busy": "2021-01-11T20:36:07.329651Z",
     "iopub.status.idle": "2021-01-11T20:36:07.483204Z",
     "shell.execute_reply": "2021-01-11T20:36:07.483817Z"
    },
    "papermill": {
     "duration": 0.209214,
     "end_time": "2021-01-11T20:36:07.483947",
     "exception": false,
     "start_time": "2021-01-11T20:36:07.274733",
     "status": "completed"
    },
    "tags": []
   },
   "outputs": [
    {
     "data": {
      "image/png": "[encoded data removed]",
      "text/plain": [
       "<Figure size 720x720 with 1 Axes>"
      ]
     },
     "metadata": {
      "needs_background": "light"
     },
     "output_type": "display_data"
    }
   ],
   "source": [
    "plt.figure(figsize=(10,10))\n",
    "ax = sns.countplot(x=\"consumes\", hue='target', data=base)\n",
    "plt.title(\"Comparing between rent consumes\")\n",
    "ax.set(xlabel='consumes', ylabel='Amounts')\n",
    "plt.show()"
   ]
  },
  {
   "cell_type": "code",
   "execution_count": 12,
   "metadata": {
    "execution": {
     "iopub.execute_input": "2021-01-11T20:36:07.557636Z",
     "iopub.status.busy": "2021-01-11T20:36:07.557033Z",
     "iopub.status.idle": "2021-01-11T20:36:07.720773Z",
     "shell.execute_reply": "2021-01-11T20:36:07.720226Z"
    },
    "papermill": {
     "duration": 0.201279,
     "end_time": "2021-01-11T20:36:07.720873",
     "exception": false,
     "start_time": "2021-01-11T20:36:07.519594",
     "status": "completed"
    },
    "tags": []
   },
   "outputs": [
    {
     "data": {
      "image/png": "[encoded data removed]",
      "text/plain": [
       "<Figure size 720x720 with 1 Axes>"
      ]
     },
     "metadata": {
      "needs_background": "light"
     },
     "output_type": "display_data"
    }
   ],
   "source": [
    "plt.figure(figsize=(10,10))\n",
    "ax = sns.countplot(x=\"equipment\", hue='target', data=base)\n",
    "plt.title(\"Comparing between equipment\")\n",
    "ax.set(xlabel='equipment', ylabel='Amounts')\n",
    "plt.show()"
   ]
  },
  {
   "cell_type": "code",
   "execution_count": 13,
   "metadata": {
    "execution": {
     "iopub.execute_input": "2021-01-11T20:36:07.805701Z",
     "iopub.status.busy": "2021-01-11T20:36:07.805022Z",
     "iopub.status.idle": "2021-01-11T20:36:07.807807Z",
     "shell.execute_reply": "2021-01-11T20:36:07.807168Z"
    },
    "papermill": {
     "duration": 0.049987,
     "end_time": "2021-01-11T20:36:07.807912",
     "exception": false,
     "start_time": "2021-01-11T20:36:07.757925",
     "status": "completed"
    },
    "tags": []
   },
   "outputs": [],
   "source": [
    "yes_df_equipment1 = base.loc[(base.target == 1) & (base.equipment == 'equipment_1')]\n",
    "no_df_equipment1 = base.loc[(base.target == 0) & (base.equipment == 'equipment_1')]"
   ]
  },
  {
   "cell_type": "markdown",
   "metadata": {
    "papermill": {
     "duration": 0.036138,
     "end_time": "2021-01-11T20:36:07.880712",
     "exception": false,
     "start_time": "2021-01-11T20:36:07.844574",
     "status": "completed"
    },
    "tags": []
   },
   "source": [
    "*Related the equipament_1 when is rent very low amount the customers no pay.*"
   ]
  },
  {
   "cell_type": "code",
   "execution_count": 14,
   "metadata": {
    "execution": {
     "iopub.execute_input": "2021-01-11T20:36:07.971462Z",
     "iopub.status.busy": "2021-01-11T20:36:07.968203Z",
     "iopub.status.idle": "2021-01-11T20:36:08.208808Z",
     "shell.execute_reply": "2021-01-11T20:36:08.208276Z"
    },
    "papermill": {
     "duration": 0.291467,
     "end_time": "2021-01-11T20:36:08.208929",
     "exception": false,
     "start_time": "2021-01-11T20:36:07.917462",
     "status": "completed"
    },
    "tags": []
   },
   "outputs": [
    {
     "data": {
      "image/png": "[encoded data removed]",
      "text/plain": [
       "<Figure size 864x504 with 1 Axes>"
      ]
     },
     "metadata": {
      "needs_background": "light"
     },
     "output_type": "display_data"
    }
   ],
   "source": [
    "plt.figure(figsize=(12,7))\n",
    "ax = sns.kdeplot(yes_df_equipment1['rent amount'], label = 'Good Payers', shade = True, color = 'g')\n",
    "ax = sns.kdeplot(no_df_equipment1['rent amount'], label = 'Bad Payers', shade = True, color = 'r');\n",
    "plt.title(\"In green good payers and red bad\")\n",
    "plt.show()"
   ]
  },
  {
   "cell_type": "code",
   "execution_count": 15,
   "metadata": {
    "execution": {
     "iopub.execute_input": "2021-01-11T20:36:08.306583Z",
     "iopub.status.busy": "2021-01-11T20:36:08.298375Z",
     "iopub.status.idle": "2021-01-11T20:36:08.682025Z",
     "shell.execute_reply": "2021-01-11T20:36:08.682548Z"
    },
    "papermill": {
     "duration": 0.434449,
     "end_time": "2021-01-11T20:36:08.682691",
     "exception": false,
     "start_time": "2021-01-11T20:36:08.248242",
     "status": "completed"
    },
    "tags": []
   },
   "outputs": [
    {
     "data": {
      "text/plain": [
       "<matplotlib.axes._subplots.AxesSubplot at 0x7f148c2f2c50>"
      ]
     },
     "execution_count": 15,
     "metadata": {},
     "output_type": "execute_result"
    },
    {
     "data": {
      "image/png": "[encoded data removed]",
      "text/plain": [
       "<Figure size 1080x1080 with 2 Axes>"
      ]
     },
     "metadata": {
      "needs_background": "light"
     },
     "output_type": "display_data"
    }
   ],
   "source": [
    "correlations = base.corr()\n",
    "\n",
    "f, ax = plt.subplots(figsize=(15,15))\n",
    "sns.heatmap(correlations, annot=True)"
   ]
  },
  {
   "cell_type": "code",
   "execution_count": 16,
   "metadata": {
    "execution": {
     "iopub.execute_input": "2021-01-11T20:36:08.772297Z",
     "iopub.status.busy": "2021-01-11T20:36:08.771667Z",
     "iopub.status.idle": "2021-01-11T20:36:08.775433Z",
     "shell.execute_reply": "2021-01-11T20:36:08.774905Z"
    },
    "papermill": {
     "duration": 0.051986,
     "end_time": "2021-01-11T20:36:08.775607",
     "exception": false,
     "start_time": "2021-01-11T20:36:08.723621",
     "status": "completed"
    },
    "tags": []
   },
   "outputs": [],
   "source": [
    "yes_target = base[base['target'] == 1]\n",
    "no_target = base[base['target'] == 0]"
   ]
  },
  {
   "cell_type": "code",
   "execution_count": 17,
   "metadata": {
    "execution": {
     "iopub.execute_input": "2021-01-11T20:36:08.872214Z",
     "iopub.status.busy": "2021-01-11T20:36:08.866033Z",
     "iopub.status.idle": "2021-01-11T20:36:09.138694Z",
     "shell.execute_reply": "2021-01-11T20:36:09.138021Z"
    },
    "papermill": {
     "duration": 0.322836,
     "end_time": "2021-01-11T20:36:09.138801",
     "exception": false,
     "start_time": "2021-01-11T20:36:08.815965",
     "status": "completed"
    },
    "tags": []
   },
   "outputs": [
    {
     "data": {
      "image/png": "[encoded data removed]",
      "text/plain": [
       "<Figure size 864x504 with 1 Axes>"
      ]
     },
     "metadata": {
      "needs_background": "light"
     },
     "output_type": "display_data"
    }
   ],
   "source": [
    "plt.figure(figsize=(12,7))\n",
    "ax = sns.kdeplot(yes_target['rent amount'], bw=1, label = 'Good Payers', shade = True, color = 'g')\n",
    "ax = sns.kdeplot(no_target['rent amount'],bw=1, label = 'Bad Payers', shade = True, color = 'r');\n",
    "plt.title(\"In green good payers and red bad\")\n",
    "plt.show()"
   ]
  },
  {
   "cell_type": "code",
   "execution_count": 18,
   "metadata": {
    "execution": {
     "iopub.execute_input": "2021-01-11T20:36:09.229446Z",
     "iopub.status.busy": "2021-01-11T20:36:09.228793Z",
     "iopub.status.idle": "2021-01-11T20:36:09.552373Z",
     "shell.execute_reply": "2021-01-11T20:36:09.551723Z"
    },
    "papermill": {
     "duration": 0.371002,
     "end_time": "2021-01-11T20:36:09.552484",
     "exception": false,
     "start_time": "2021-01-11T20:36:09.181482",
     "status": "completed"
    },
    "tags": []
   },
   "outputs": [
    {
     "data": {
      "image/png": "[encoded data removed]",
      "text/plain": [
       "<Figure size 1080x720 with 1 Axes>"
      ]
     },
     "metadata": {
      "needs_background": "light"
     },
     "output_type": "display_data"
    }
   ],
   "source": [
    "plt.figure(figsize=(15, 10))\n",
    "sns.boxplot(x = 'target', y = 'city', data=base);"
   ]
  },
  {
   "cell_type": "code",
   "execution_count": 19,
   "metadata": {
    "execution": {
     "iopub.execute_input": "2021-01-11T20:36:09.655081Z",
     "iopub.status.busy": "2021-01-11T20:36:09.649629Z",
     "iopub.status.idle": "2021-01-11T20:36:09.830026Z",
     "shell.execute_reply": "2021-01-11T20:36:09.829481Z"
    },
    "papermill": {
     "duration": 0.233402,
     "end_time": "2021-01-11T20:36:09.830135",
     "exception": false,
     "start_time": "2021-01-11T20:36:09.596733",
     "status": "completed"
    },
    "tags": []
   },
   "outputs": [
    {
     "data": {
      "image/png": "[encoded data removed]",
      "text/plain": [
       "<Figure size 1080x720 with 1 Axes>"
      ]
     },
     "metadata": {
      "needs_background": "light"
     },
     "output_type": "display_data"
    }
   ],
   "source": [
    "plt.figure(figsize=(15, 10))\n",
    "sns.boxplot(x = 'target', y = 'equipment', data=base);"
   ]
  },
  {
   "cell_type": "code",
   "execution_count": 20,
   "metadata": {
    "execution": {
     "iopub.execute_input": "2021-01-11T20:36:09.935831Z",
     "iopub.status.busy": "2021-01-11T20:36:09.928828Z",
     "iopub.status.idle": "2021-01-11T20:36:10.207494Z",
     "shell.execute_reply": "2021-01-11T20:36:10.206832Z"
    },
    "papermill": {
     "duration": 0.333258,
     "end_time": "2021-01-11T20:36:10.207632",
     "exception": false,
     "start_time": "2021-01-11T20:36:09.874374",
     "status": "completed"
    },
    "tags": []
   },
   "outputs": [
    {
     "data": {
      "image/png": "[encoded data removed]",
      "text/plain": [
       "<Figure size 1080x720 with 1 Axes>"
      ]
     },
     "metadata": {
      "needs_background": "light"
     },
     "output_type": "display_data"
    }
   ],
   "source": [
    "plt.figure(figsize=(15, 10))\n",
    "sns.boxplot(x = 'target', y = 'commerce', data=base);"
   ]
  },
  {
   "cell_type": "code",
   "execution_count": 21,
   "metadata": {
    "execution": {
     "iopub.execute_input": "2021-01-11T20:36:10.318239Z",
     "iopub.status.busy": "2021-01-11T20:36:10.313169Z",
     "iopub.status.idle": "2021-01-11T20:36:10.340598Z",
     "shell.execute_reply": "2021-01-11T20:36:10.340066Z"
    },
    "papermill": {
     "duration": 0.086691,
     "end_time": "2021-01-11T20:36:10.340705",
     "exception": false,
     "start_time": "2021-01-11T20:36:10.254014",
     "status": "completed"
    },
    "tags": []
   },
   "outputs": [
    {
     "data": {
      "text/html": [
       "<div>\n",
       "<style scoped>\n",
       "    .dataframe tbody tr th:only-of-type {\n",
       "        vertical-align: middle;\n",
       "    }\n",
       "\n",
       "    .dataframe tbody tr th {\n",
       "        vertical-align: top;\n",
       "    }\n",
       "\n",
       "    .dataframe thead th {\n",
       "        text-align: right;\n",
       "    }\n",
       "</style>\n",
       "<table border=\"1\" class=\"dataframe\">\n",
       "  <thead>\n",
       "    <tr style=\"text-align: right;\">\n",
       "      <th></th>\n",
       "      <th>protests</th>\n",
       "      <th>amount due</th>\n",
       "      <th>rent amount</th>\n",
       "      <th>consumes</th>\n",
       "      <th>target</th>\n",
       "    </tr>\n",
       "  </thead>\n",
       "  <tbody>\n",
       "    <tr>\n",
       "      <th>count</th>\n",
       "      <td>110.000000</td>\n",
       "      <td>1.100000e+02</td>\n",
       "      <td>110.000000</td>\n",
       "      <td>110.000000</td>\n",
       "      <td>110.000000</td>\n",
       "    </tr>\n",
       "    <tr>\n",
       "      <th>mean</th>\n",
       "      <td>125.636364</td>\n",
       "      <td>2.650584e+05</td>\n",
       "      <td>6607.272727</td>\n",
       "      <td>0.618182</td>\n",
       "      <td>0.690909</td>\n",
       "    </tr>\n",
       "    <tr>\n",
       "      <th>std</th>\n",
       "      <td>325.673691</td>\n",
       "      <td>1.021464e+06</td>\n",
       "      <td>2377.868489</td>\n",
       "      <td>0.488056</td>\n",
       "      <td>0.464234</td>\n",
       "    </tr>\n",
       "    <tr>\n",
       "      <th>min</th>\n",
       "      <td>0.000000</td>\n",
       "      <td>0.000000e+00</td>\n",
       "      <td>2000.000000</td>\n",
       "      <td>0.000000</td>\n",
       "      <td>0.000000</td>\n",
       "    </tr>\n",
       "    <tr>\n",
       "      <th>25%</th>\n",
       "      <td>0.000000</td>\n",
       "      <td>0.000000e+00</td>\n",
       "      <td>5000.000000</td>\n",
       "      <td>0.000000</td>\n",
       "      <td>0.000000</td>\n",
       "    </tr>\n",
       "    <tr>\n",
       "      <th>50%</th>\n",
       "      <td>0.000000</td>\n",
       "      <td>0.000000e+00</td>\n",
       "      <td>7200.000000</td>\n",
       "      <td>1.000000</td>\n",
       "      <td>1.000000</td>\n",
       "    </tr>\n",
       "    <tr>\n",
       "      <th>75%</th>\n",
       "      <td>40.000000</td>\n",
       "      <td>2.147500e+04</td>\n",
       "      <td>8400.000000</td>\n",
       "      <td>1.000000</td>\n",
       "      <td>1.000000</td>\n",
       "    </tr>\n",
       "    <tr>\n",
       "      <th>max</th>\n",
       "      <td>1840.000000</td>\n",
       "      <td>6.825360e+06</td>\n",
       "      <td>10000.000000</td>\n",
       "      <td>1.000000</td>\n",
       "      <td>1.000000</td>\n",
       "    </tr>\n",
       "  </tbody>\n",
       "</table>\n",
       "</div>"
      ],
      "text/plain": [
       "          protests    amount due   rent amount    consumes      target\n",
       "count   110.000000  1.100000e+02    110.000000  110.000000  110.000000\n",
       "mean    125.636364  2.650584e+05   6607.272727    0.618182    0.690909\n",
       "std     325.673691  1.021464e+06   2377.868489    0.488056    0.464234\n",
       "min       0.000000  0.000000e+00   2000.000000    0.000000    0.000000\n",
       "25%       0.000000  0.000000e+00   5000.000000    0.000000    0.000000\n",
       "50%       0.000000  0.000000e+00   7200.000000    1.000000    1.000000\n",
       "75%      40.000000  2.147500e+04   8400.000000    1.000000    1.000000\n",
       "max    1840.000000  6.825360e+06  10000.000000    1.000000    1.000000"
      ]
     },
     "execution_count": 21,
     "metadata": {},
     "output_type": "execute_result"
    }
   ],
   "source": [
    "base.describe()"
   ]
  },
  {
   "cell_type": "markdown",
   "metadata": {
    "papermill": {
     "duration": 0.047929,
     "end_time": "2021-01-11T20:36:10.434908",
     "exception": false,
     "start_time": "2021-01-11T20:36:10.386979",
     "status": "completed"
    },
    "tags": []
   },
   "source": [
    "**Preprocessing**"
   ]
  },
  {
   "cell_type": "markdown",
   "metadata": {
    "papermill": {
     "duration": 0.045829,
     "end_time": "2021-01-11T20:36:10.527125",
     "exception": false,
     "start_time": "2021-01-11T20:36:10.481296",
     "status": "completed"
    },
    "tags": []
   },
   "source": [
    "*We will use tree in ours predictions and no to need use one-hot-encoding.*\n",
    "*We will use label-encoder*"
   ]
  },
  {
   "cell_type": "code",
   "execution_count": 22,
   "metadata": {
    "execution": {
     "iopub.execute_input": "2021-01-11T20:36:10.624926Z",
     "iopub.status.busy": "2021-01-11T20:36:10.624291Z",
     "iopub.status.idle": "2021-01-11T20:36:10.628666Z",
     "shell.execute_reply": "2021-01-11T20:36:10.628056Z"
    },
    "papermill": {
     "duration": 0.054816,
     "end_time": "2021-01-11T20:36:10.628779",
     "exception": false,
     "start_time": "2021-01-11T20:36:10.573963",
     "status": "completed"
    },
    "tags": []
   },
   "outputs": [
    {
     "data": {
      "text/plain": [
       "Index(['customers', 'protests', 'amount due', 'rent amount', 'city',\n",
       "       'commerce', 'consumes', 'equipment', 'target'],\n",
       "      dtype='object')"
      ]
     },
     "execution_count": 22,
     "metadata": {},
     "output_type": "execute_result"
    }
   ],
   "source": [
    "base.columns"
   ]
  },
  {
   "cell_type": "code",
   "execution_count": 23,
   "metadata": {
    "execution": {
     "iopub.execute_input": "2021-01-11T20:36:10.724154Z",
     "iopub.status.busy": "2021-01-11T20:36:10.723480Z",
     "iopub.status.idle": "2021-01-11T20:36:10.730498Z",
     "shell.execute_reply": "2021-01-11T20:36:10.730015Z"
    },
    "papermill": {
     "duration": 0.05572,
     "end_time": "2021-01-11T20:36:10.730634",
     "exception": false,
     "start_time": "2021-01-11T20:36:10.674914",
     "status": "completed"
    },
    "tags": []
   },
   "outputs": [],
   "source": [
    "base_categorical = base[['city', 'commerce', 'equipment']]"
   ]
  },
  {
   "cell_type": "code",
   "execution_count": 24,
   "metadata": {
    "execution": {
     "iopub.execute_input": "2021-01-11T20:36:10.828104Z",
     "iopub.status.busy": "2021-01-11T20:36:10.827465Z",
     "iopub.status.idle": "2021-01-11T20:36:10.865615Z",
     "shell.execute_reply": "2021-01-11T20:36:10.864961Z"
    },
    "papermill": {
     "duration": 0.089243,
     "end_time": "2021-01-11T20:36:10.865719",
     "exception": false,
     "start_time": "2021-01-11T20:36:10.776476",
     "status": "completed"
    },
    "tags": []
   },
   "outputs": [],
   "source": [
    "from sklearn.preprocessing import LabelEncoder\n",
    "from collections import defaultdict\n",
    "d = defaultdict(LabelEncoder)\n",
    "\n",
    "base_categorical = base_categorical.apply(lambda x: d[x.name].fit_transform(x))"
   ]
  },
  {
   "cell_type": "code",
   "execution_count": 25,
   "metadata": {
    "execution": {
     "iopub.execute_input": "2021-01-11T20:36:10.970954Z",
     "iopub.status.busy": "2021-01-11T20:36:10.970266Z",
     "iopub.status.idle": "2021-01-11T20:36:10.973078Z",
     "shell.execute_reply": "2021-01-11T20:36:10.973698Z"
    },
    "papermill": {
     "duration": 0.060743,
     "end_time": "2021-01-11T20:36:10.973836",
     "exception": false,
     "start_time": "2021-01-11T20:36:10.913093",
     "status": "completed"
    },
    "tags": []
   },
   "outputs": [
    {
     "data": {
      "text/html": [
       "<div>\n",
       "<style scoped>\n",
       "    .dataframe tbody tr th:only-of-type {\n",
       "        vertical-align: middle;\n",
       "    }\n",
       "\n",
       "    .dataframe tbody tr th {\n",
       "        vertical-align: top;\n",
       "    }\n",
       "\n",
       "    .dataframe thead th {\n",
       "        text-align: right;\n",
       "    }\n",
       "</style>\n",
       "<table border=\"1\" class=\"dataframe\">\n",
       "  <thead>\n",
       "    <tr style=\"text-align: right;\">\n",
       "      <th></th>\n",
       "      <th>city</th>\n",
       "      <th>commerce</th>\n",
       "      <th>equipment</th>\n",
       "    </tr>\n",
       "  </thead>\n",
       "  <tbody>\n",
       "    <tr>\n",
       "      <th>85</th>\n",
       "      <td>0</td>\n",
       "      <td>2</td>\n",
       "      <td>1</td>\n",
       "    </tr>\n",
       "    <tr>\n",
       "      <th>10</th>\n",
       "      <td>0</td>\n",
       "      <td>2</td>\n",
       "      <td>0</td>\n",
       "    </tr>\n",
       "    <tr>\n",
       "      <th>75</th>\n",
       "      <td>0</td>\n",
       "      <td>1</td>\n",
       "      <td>1</td>\n",
       "    </tr>\n",
       "    <tr>\n",
       "      <th>2</th>\n",
       "      <td>1</td>\n",
       "      <td>3</td>\n",
       "      <td>0</td>\n",
       "    </tr>\n",
       "    <tr>\n",
       "      <th>24</th>\n",
       "      <td>0</td>\n",
       "      <td>1</td>\n",
       "      <td>0</td>\n",
       "    </tr>\n",
       "  </tbody>\n",
       "</table>\n",
       "</div>"
      ],
      "text/plain": [
       "    city  commerce  equipment\n",
       "85     0         2          1\n",
       "10     0         2          0\n",
       "75     0         1          1\n",
       "2      1         3          0\n",
       "24     0         1          0"
      ]
     },
     "execution_count": 25,
     "metadata": {},
     "output_type": "execute_result"
    }
   ],
   "source": [
    "base_categorical.head()"
   ]
  },
  {
   "cell_type": "code",
   "execution_count": 26,
   "metadata": {
    "execution": {
     "iopub.execute_input": "2021-01-11T20:36:11.078714Z",
     "iopub.status.busy": "2021-01-11T20:36:11.077950Z",
     "iopub.status.idle": "2021-01-11T20:36:11.082357Z",
     "shell.execute_reply": "2021-01-11T20:36:11.082853Z"
    },
    "papermill": {
     "duration": 0.060649,
     "end_time": "2021-01-11T20:36:11.083004",
     "exception": false,
     "start_time": "2021-01-11T20:36:11.022355",
     "status": "completed"
    },
    "tags": []
   },
   "outputs": [],
   "source": [
    "base_numerical = base[['protests', 'amount due', 'rent amount','consumes']]"
   ]
  },
  {
   "cell_type": "code",
   "execution_count": 27,
   "metadata": {
    "execution": {
     "iopub.execute_input": "2021-01-11T20:36:11.185301Z",
     "iopub.status.busy": "2021-01-11T20:36:11.184323Z",
     "iopub.status.idle": "2021-01-11T20:36:11.188763Z",
     "shell.execute_reply": "2021-01-11T20:36:11.188226Z"
    },
    "papermill": {
     "duration": 0.058284,
     "end_time": "2021-01-11T20:36:11.188888",
     "exception": false,
     "start_time": "2021-01-11T20:36:11.130604",
     "status": "completed"
    },
    "tags": []
   },
   "outputs": [],
   "source": [
    "base_all = pd.concat([base_numerical, base_categorical], axis = 1)"
   ]
  },
  {
   "cell_type": "code",
   "execution_count": 28,
   "metadata": {
    "execution": {
     "iopub.execute_input": "2021-01-11T20:36:11.292060Z",
     "iopub.status.busy": "2021-01-11T20:36:11.291082Z",
     "iopub.status.idle": "2021-01-11T20:36:11.305444Z",
     "shell.execute_reply": "2021-01-11T20:36:11.305952Z"
    },
    "papermill": {
     "duration": 0.069302,
     "end_time": "2021-01-11T20:36:11.306083",
     "exception": false,
     "start_time": "2021-01-11T20:36:11.236781",
     "status": "completed"
    },
    "tags": []
   },
   "outputs": [
    {
     "data": {
      "text/html": [
       "<div>\n",
       "<style scoped>\n",
       "    .dataframe tbody tr th:only-of-type {\n",
       "        vertical-align: middle;\n",
       "    }\n",
       "\n",
       "    .dataframe tbody tr th {\n",
       "        vertical-align: top;\n",
       "    }\n",
       "\n",
       "    .dataframe thead th {\n",
       "        text-align: right;\n",
       "    }\n",
       "</style>\n",
       "<table border=\"1\" class=\"dataframe\">\n",
       "  <thead>\n",
       "    <tr style=\"text-align: right;\">\n",
       "      <th></th>\n",
       "      <th>protests</th>\n",
       "      <th>amount due</th>\n",
       "      <th>rent amount</th>\n",
       "      <th>consumes</th>\n",
       "      <th>city</th>\n",
       "      <th>commerce</th>\n",
       "      <th>equipment</th>\n",
       "    </tr>\n",
       "  </thead>\n",
       "  <tbody>\n",
       "    <tr>\n",
       "      <th>85</th>\n",
       "      <td>0</td>\n",
       "      <td>0</td>\n",
       "      <td>5600</td>\n",
       "      <td>1</td>\n",
       "      <td>0</td>\n",
       "      <td>2</td>\n",
       "      <td>1</td>\n",
       "    </tr>\n",
       "    <tr>\n",
       "      <th>10</th>\n",
       "      <td>200</td>\n",
       "      <td>5951620</td>\n",
       "      <td>7200</td>\n",
       "      <td>1</td>\n",
       "      <td>0</td>\n",
       "      <td>2</td>\n",
       "      <td>0</td>\n",
       "    </tr>\n",
       "    <tr>\n",
       "      <th>75</th>\n",
       "      <td>0</td>\n",
       "      <td>0</td>\n",
       "      <td>6000</td>\n",
       "      <td>1</td>\n",
       "      <td>0</td>\n",
       "      <td>1</td>\n",
       "      <td>1</td>\n",
       "    </tr>\n",
       "    <tr>\n",
       "      <th>2</th>\n",
       "      <td>0</td>\n",
       "      <td>0</td>\n",
       "      <td>5000</td>\n",
       "      <td>0</td>\n",
       "      <td>1</td>\n",
       "      <td>3</td>\n",
       "      <td>0</td>\n",
       "    </tr>\n",
       "    <tr>\n",
       "      <th>24</th>\n",
       "      <td>0</td>\n",
       "      <td>0</td>\n",
       "      <td>9000</td>\n",
       "      <td>0</td>\n",
       "      <td>0</td>\n",
       "      <td>1</td>\n",
       "      <td>0</td>\n",
       "    </tr>\n",
       "    <tr>\n",
       "      <th>...</th>\n",
       "      <td>...</td>\n",
       "      <td>...</td>\n",
       "      <td>...</td>\n",
       "      <td>...</td>\n",
       "      <td>...</td>\n",
       "      <td>...</td>\n",
       "      <td>...</td>\n",
       "    </tr>\n",
       "    <tr>\n",
       "      <th>106</th>\n",
       "      <td>280</td>\n",
       "      <td>102900</td>\n",
       "      <td>8000</td>\n",
       "      <td>0</td>\n",
       "      <td>3</td>\n",
       "      <td>1</td>\n",
       "      <td>0</td>\n",
       "    </tr>\n",
       "    <tr>\n",
       "      <th>67</th>\n",
       "      <td>1360</td>\n",
       "      <td>1765060</td>\n",
       "      <td>7000</td>\n",
       "      <td>1</td>\n",
       "      <td>0</td>\n",
       "      <td>2</td>\n",
       "      <td>0</td>\n",
       "    </tr>\n",
       "    <tr>\n",
       "      <th>64</th>\n",
       "      <td>0</td>\n",
       "      <td>0</td>\n",
       "      <td>8000</td>\n",
       "      <td>0</td>\n",
       "      <td>3</td>\n",
       "      <td>1</td>\n",
       "      <td>0</td>\n",
       "    </tr>\n",
       "    <tr>\n",
       "      <th>47</th>\n",
       "      <td>20</td>\n",
       "      <td>6060</td>\n",
       "      <td>3000</td>\n",
       "      <td>1</td>\n",
       "      <td>3</td>\n",
       "      <td>3</td>\n",
       "      <td>2</td>\n",
       "    </tr>\n",
       "    <tr>\n",
       "      <th>44</th>\n",
       "      <td>0</td>\n",
       "      <td>0</td>\n",
       "      <td>7200</td>\n",
       "      <td>1</td>\n",
       "      <td>7</td>\n",
       "      <td>1</td>\n",
       "      <td>0</td>\n",
       "    </tr>\n",
       "  </tbody>\n",
       "</table>\n",
       "<p>110 rows × 7 columns</p>\n",
       "</div>"
      ],
      "text/plain": [
       "     protests  amount due  rent amount  consumes  city  commerce  equipment\n",
       "85          0           0         5600         1     0         2          1\n",
       "10        200     5951620         7200         1     0         2          0\n",
       "75          0           0         6000         1     0         1          1\n",
       "2           0           0         5000         0     1         3          0\n",
       "24          0           0         9000         0     0         1          0\n",
       "..        ...         ...          ...       ...   ...       ...        ...\n",
       "106       280      102900         8000         0     3         1          0\n",
       "67       1360     1765060         7000         1     0         2          0\n",
       "64          0           0         8000         0     3         1          0\n",
       "47         20        6060         3000         1     3         3          2\n",
       "44          0           0         7200         1     7         1          0\n",
       "\n",
       "[110 rows x 7 columns]"
      ]
     },
     "execution_count": 28,
     "metadata": {},
     "output_type": "execute_result"
    }
   ],
   "source": [
    "base_all"
   ]
  },
  {
   "cell_type": "code",
   "execution_count": 29,
   "metadata": {
    "execution": {
     "iopub.execute_input": "2021-01-11T20:36:11.409346Z",
     "iopub.status.busy": "2021-01-11T20:36:11.408748Z",
     "iopub.status.idle": "2021-01-11T20:36:11.414297Z",
     "shell.execute_reply": "2021-01-11T20:36:11.413808Z"
    },
    "papermill": {
     "duration": 0.05944,
     "end_time": "2021-01-11T20:36:11.414410",
     "exception": false,
     "start_time": "2021-01-11T20:36:11.354970",
     "status": "completed"
    },
    "tags": []
   },
   "outputs": [
    {
     "data": {
      "text/plain": [
       "Index(['protests', 'amount due', 'rent amount', 'consumes', 'city', 'commerce',\n",
       "       'equipment'],\n",
       "      dtype='object')"
      ]
     },
     "execution_count": 29,
     "metadata": {},
     "output_type": "execute_result"
    }
   ],
   "source": [
    "base_all.columns"
   ]
  },
  {
   "cell_type": "code",
   "execution_count": 30,
   "metadata": {
    "execution": {
     "iopub.execute_input": "2021-01-11T20:36:11.520927Z",
     "iopub.status.busy": "2021-01-11T20:36:11.520274Z",
     "iopub.status.idle": "2021-01-11T20:36:11.522568Z",
     "shell.execute_reply": "2021-01-11T20:36:11.521958Z"
    },
    "papermill": {
     "duration": 0.057805,
     "end_time": "2021-01-11T20:36:11.522673",
     "exception": false,
     "start_time": "2021-01-11T20:36:11.464868",
     "status": "completed"
    },
    "tags": []
   },
   "outputs": [],
   "source": [
    "targets = base[['target']].values"
   ]
  },
  {
   "cell_type": "markdown",
   "metadata": {
    "papermill": {
     "duration": 0.048147,
     "end_time": "2021-01-11T20:36:11.619450",
     "exception": false,
     "start_time": "2021-01-11T20:36:11.571303",
     "status": "completed"
    },
    "tags": []
   },
   "source": [
    "*We will use cross validation, because have low features.*"
   ]
  },
  {
   "cell_type": "markdown",
   "metadata": {
    "papermill": {
     "duration": 0.048498,
     "end_time": "2021-01-11T20:36:11.715974",
     "exception": false,
     "start_time": "2021-01-11T20:36:11.667476",
     "status": "completed"
    },
    "tags": []
   },
   "source": [
    "*We go use combined models for prediction, is best than use very tunnings.*"
   ]
  },
  {
   "cell_type": "code",
   "execution_count": 31,
   "metadata": {
    "execution": {
     "iopub.execute_input": "2021-01-11T20:36:11.819227Z",
     "iopub.status.busy": "2021-01-11T20:36:11.818580Z",
     "iopub.status.idle": "2021-01-11T20:36:11.823221Z",
     "shell.execute_reply": "2021-01-11T20:36:11.822574Z"
    },
    "papermill": {
     "duration": 0.058195,
     "end_time": "2021-01-11T20:36:11.823334",
     "exception": false,
     "start_time": "2021-01-11T20:36:11.765139",
     "status": "completed"
    },
    "tags": []
   },
   "outputs": [],
   "source": [
    "k = 4\n",
    "num_val_samples = len(base_all) // k"
   ]
  },
  {
   "cell_type": "code",
   "execution_count": 32,
   "metadata": {
    "execution": {
     "iopub.execute_input": "2021-01-11T20:36:11.933952Z",
     "iopub.status.busy": "2021-01-11T20:36:11.933285Z",
     "iopub.status.idle": "2021-01-11T20:37:22.373307Z",
     "shell.execute_reply": "2021-01-11T20:37:22.373861Z"
    },
    "papermill": {
     "duration": 70.501494,
     "end_time": "2021-01-11T20:37:22.373992",
     "exception": false,
     "start_time": "2021-01-11T20:36:11.872498",
     "status": "completed"
    },
    "tags": []
   },
   "outputs": [
    {
     "name": "stdout",
     "output_type": "stream",
     "text": [
      "processing fold # 0\n",
      " Average_precision:0.9860847771602921, AUC:0.9571428571428571\n",
      "processing fold # 1\n",
      " Average_precision:0.9451259728268038, AUC:0.9276315789473684\n",
      "processing fold # 2\n",
      " Average_precision:0.8839496382228986, AUC:0.7960526315789473\n",
      "processing fold # 3\n",
      " Average_precision:0.9192197339293775, AUC:0.9176470588235294\n"
     ]
    }
   ],
   "source": [
    "from sklearn.ensemble import GradientBoostingClassifier\n",
    "from sklearn.model_selection import RandomizedSearchCV\n",
    "from sklearn.metrics import accuracy_score\n",
    "from sklearn.metrics import confusion_matrix\n",
    "from sklearn.metrics import classification_report\n",
    "from sklearn.metrics import average_precision_score, roc_auc_score\n",
    "\n",
    "gb = GradientBoostingClassifier()\n",
    "\n",
    "parameters_gb = {'learning_rate':(0.1,0.01), 'n_estimators':range(40,800,10),\n",
    "                'max_depth':range(2,32,2)\n",
    "              }\n",
    "\n",
    "clf_gb = RandomizedSearchCV(gb, parameters_gb)\n",
    "\n",
    "for i in range(k):\n",
    "    print('processing fold #', i)\n",
    "    #Validation\n",
    "    val_data = base_all[i * num_val_samples: (i + 1) * num_val_samples]\n",
    "    val_targets = targets[i * num_val_samples: (i + 1) * num_val_samples]\n",
    "    val_targets = np.ravel(val_targets)\n",
    "    #Training\n",
    "    partial_train_data = np.concatenate([base_all[:i * num_val_samples],base_all[(i + 1) * num_val_samples:]],axis=0)\n",
    "    partial_train_targets = np.concatenate([targets[:i * num_val_samples],targets[(i + 1) * num_val_samples:]],axis=0)\n",
    "    partial_train_targets = np.ravel(partial_train_targets)\n",
    "\n",
    "    clf_gb.fit(partial_train_data, partial_train_targets)\n",
    "    y_gb = clf_gb.predict_proba(val_data)[:, 1]\n",
    "    print(f\" Average_precision:{average_precision_score(val_targets, y_gb)}, AUC:{roc_auc_score(val_targets, y_gb)}\")"
   ]
  },
  {
   "cell_type": "code",
   "execution_count": 33,
   "metadata": {
    "execution": {
     "iopub.execute_input": "2021-01-11T20:37:22.485619Z",
     "iopub.status.busy": "2021-01-11T20:37:22.482768Z",
     "iopub.status.idle": "2021-01-11T20:37:32.596144Z",
     "shell.execute_reply": "2021-01-11T20:37:32.595548Z"
    },
    "papermill": {
     "duration": 10.172194,
     "end_time": "2021-01-11T20:37:32.596269",
     "exception": false,
     "start_time": "2021-01-11T20:37:22.424075",
     "status": "completed"
    },
    "tags": []
   },
   "outputs": [
    {
     "data": {
      "text/html": [
       "<style type='text/css'>\n",
       ".datatable table.frame { margin-bottom: 0; }\n",
       ".datatable table.frame thead { border-bottom: none; }\n",
       ".datatable table.frame tr.coltypes td {  color: #FFFFFF;  line-height: 6px;  padding: 0 0.5em;}\n",
       ".datatable .bool    { background: #DDDD99; }\n",
       ".datatable .object  { background: #565656; }\n",
       ".datatable .int     { background: #5D9E5D; }\n",
       ".datatable .float   { background: #4040CC; }\n",
       ".datatable .str     { background: #CC4040; }\n",
       ".datatable .row_index {  background: var(--jp-border-color3);  border-right: 1px solid var(--jp-border-color0);  color: var(--jp-ui-font-color3);  font-size: 9px;}\n",
       ".datatable .frame tr.coltypes .row_index {  background: var(--jp-border-color0);}\n",
       ".datatable th:nth-child(2) { padding-left: 12px; }\n",
       ".datatable .hellipsis {  color: var(--jp-cell-editor-border-color);}\n",
       ".datatable .vellipsis {  background: var(--jp-layout-color0);  color: var(--jp-cell-editor-border-color);}\n",
       ".datatable .na {  color: var(--jp-cell-editor-border-color);  font-size: 80%;}\n",
       ".datatable .footer { font-size: 9px; }\n",
       ".datatable .frame_dimensions {  background: var(--jp-border-color3);  border-top: 1px solid var(--jp-border-color0);  color: var(--jp-ui-font-color3);  display: inline-block;  opacity: 0.6;  padding: 1px 10px 1px 5px;}\n",
       "</style>\n"
      ],
      "text/plain": [
       "<IPython.core.display.HTML object>"
      ]
     },
     "metadata": {},
     "output_type": "display_data"
    },
    {
     "name": "stdout",
     "output_type": "stream",
     "text": [
      "processing fold # 0\n",
      " Average_precision:0.9859615384615386, AUC:0.9714285714285713\n",
      "processing fold # 1\n",
      " Average_precision:0.95, AUC:0.9375\n",
      "processing fold # 2\n",
      " Average_precision:0.8645025711589178, AUC:0.7796052631578947\n",
      "processing fold # 3\n",
      " Average_precision:0.9580835980763135, AUC:0.9058823529411764\n"
     ]
    }
   ],
   "source": [
    "from lightgbm import LGBMClassifier\n",
    "\n",
    "lgbm = LGBMClassifier(num_leaves=2, class_weight=\"balanced\", n_jobs=-1)\n",
    "\n",
    "parameters_lgbm = {'learning_rate':(0.1,0.01), 'n_estimators':range(40,800,10),\n",
    "                'max_depth':range(2,32,2),\n",
    "              }\n",
    "\n",
    "clf_lgbm = RandomizedSearchCV(lgbm, parameters_lgbm)\n",
    "\n",
    "for i in range(k):\n",
    "    print('processing fold #', i)\n",
    "    #Validation\n",
    "    val_data = base_all[i * num_val_samples: (i + 1) * num_val_samples]\n",
    "    val_targets = targets[i * num_val_samples: (i + 1) * num_val_samples]\n",
    "    val_targets = np.ravel(val_targets)\n",
    "    #Training\n",
    "    partial_train_data = np.concatenate([base_all[:i * num_val_samples],base_all[(i + 1) * num_val_samples:]],axis=0)\n",
    "    partial_train_targets = np.concatenate([targets[:i * num_val_samples],targets[(i + 1) * num_val_samples:]],axis=0)\n",
    "    partial_train_targets = np.ravel(partial_train_targets)\n",
    "\n",
    "    clf_lgbm.fit(partial_train_data, partial_train_targets)\n",
    "    y_lgbm = clf_lgbm.predict_proba(val_data)[:, 1]\n",
    "    print(f\" Average_precision:{average_precision_score(val_targets, y_lgbm)}, AUC:{roc_auc_score(val_targets, y_lgbm)}\")"
   ]
  },
  {
   "cell_type": "markdown",
   "metadata": {
    "papermill": {
     "duration": 0.067737,
     "end_time": "2021-01-11T20:37:32.732329",
     "exception": false,
     "start_time": "2021-01-11T20:37:32.664592",
     "status": "completed"
    },
    "tags": []
   },
   "source": [
    "**Combined models - Fold 3**"
   ]
  },
  {
   "cell_type": "code",
   "execution_count": 34,
   "metadata": {
    "execution": {
     "iopub.execute_input": "2021-01-11T20:37:32.859942Z",
     "iopub.status.busy": "2021-01-11T20:37:32.858950Z",
     "iopub.status.idle": "2021-01-11T20:37:32.861091Z",
     "shell.execute_reply": "2021-01-11T20:37:32.860581Z"
    },
    "papermill": {
     "duration": 0.063331,
     "end_time": "2021-01-11T20:37:32.861196",
     "exception": false,
     "start_time": "2021-01-11T20:37:32.797865",
     "status": "completed"
    },
    "tags": []
   },
   "outputs": [],
   "source": [
    "y_all = (y_gb*0.5) + (y_lgbm*0.5)"
   ]
  },
  {
   "cell_type": "code",
   "execution_count": 35,
   "metadata": {
    "execution": {
     "iopub.execute_input": "2021-01-11T20:37:32.984040Z",
     "iopub.status.busy": "2021-01-11T20:37:32.983081Z",
     "iopub.status.idle": "2021-01-11T20:37:32.989231Z",
     "shell.execute_reply": "2021-01-11T20:37:32.988598Z"
    },
    "papermill": {
     "duration": 0.066839,
     "end_time": "2021-01-11T20:37:32.989335",
     "exception": false,
     "start_time": "2021-01-11T20:37:32.922496",
     "status": "completed"
    },
    "tags": []
   },
   "outputs": [
    {
     "data": {
      "text/plain": [
       "array([0.02509239, 0.96834032, 0.02278026, 0.87082224, 0.58047446,\n",
       "       0.96834032, 0.97085133, 0.02509239, 0.04312968, 0.91225696,\n",
       "       0.97856867, 0.04250601, 0.97856867, 0.97085133, 0.6214333 ,\n",
       "       0.02509239, 0.97289319, 0.04250601, 0.74633146, 0.92887408,\n",
       "       0.08570766, 0.11276701, 0.9760009 , 0.6214333 , 0.0154707 ,\n",
       "       0.16265783, 0.8692639 ])"
      ]
     },
     "execution_count": 35,
     "metadata": {},
     "output_type": "execute_result"
    }
   ],
   "source": [
    "y_all"
   ]
  },
  {
   "cell_type": "code",
   "execution_count": 36,
   "metadata": {
    "execution": {
     "iopub.execute_input": "2021-01-11T20:37:33.108701Z",
     "iopub.status.busy": "2021-01-11T20:37:33.106624Z",
     "iopub.status.idle": "2021-01-11T20:37:33.115544Z",
     "shell.execute_reply": "2021-01-11T20:37:33.114975Z"
    },
    "papermill": {
     "duration": 0.072312,
     "end_time": "2021-01-11T20:37:33.115664",
     "exception": false,
     "start_time": "2021-01-11T20:37:33.043352",
     "status": "completed"
    },
    "tags": []
   },
   "outputs": [
    {
     "name": "stdout",
     "output_type": "stream",
     "text": [
      " Average_precision:0.9716717682548133, AUC:0.9529411764705882\n"
     ]
    }
   ],
   "source": [
    "print(f\" Average_precision:{average_precision_score(val_targets, y_all)}, AUC:{roc_auc_score(val_targets, y_all)}\")"
   ]
  },
  {
   "cell_type": "code",
   "execution_count": 37,
   "metadata": {
    "execution": {
     "iopub.execute_input": "2021-01-11T20:37:33.238038Z",
     "iopub.status.busy": "2021-01-11T20:37:33.235698Z",
     "iopub.status.idle": "2021-01-11T20:37:33.296560Z",
     "shell.execute_reply": "2021-01-11T20:37:33.295938Z"
    },
    "papermill": {
     "duration": 0.126242,
     "end_time": "2021-01-11T20:37:33.296700",
     "exception": false,
     "start_time": "2021-01-11T20:37:33.170458",
     "status": "completed"
    },
    "tags": []
   },
   "outputs": [
    {
     "data": {
      "text/plain": [
       "['d-model.pkl']"
      ]
     },
     "execution_count": 37,
     "metadata": {},
     "output_type": "execute_result"
    }
   ],
   "source": [
    "# salve\n",
    "import joblib\n",
    "\n",
    "joblib.dump(clf_lgbm, 'clf_lgbm-model.pkl')       \n",
    "\n",
    "joblib.dump(clf_gb, 'clf_gb-model.pkl')    \n",
    "\n",
    "joblib.dump(d, 'd-model.pkl')"
   ]
  }
 ],
 "metadata": {
  "kernelspec": {
   "display_name": "Python 3",
   "language": "python",
   "name": "python3"
  },
  "language_info": {
   "codemirror_mode": {
    "name": "ipython",
    "version": 3
   },
   "file_extension": ".py",
   "mimetype": "text/x-python",
   "name": "python",
   "nbconvert_exporter": "python",
   "pygments_lexer": "ipython3",
   "version": "3.7.6"
  },
  "papermill": {
   "duration": 95.548964,
   "end_time": "2021-01-11T20:37:33.476930",
   "environment_variables": {},
   "exception": null,
   "input_path": "__notebook__.ipynb",
   "output_path": "__notebook__.ipynb",
   "parameters": {},
   "start_time": "2021-01-11T20:35:57.927966",
   "version": "2.1.0"
  }
 },
 "nbformat": 4,
 "nbformat_minor": 4
}
