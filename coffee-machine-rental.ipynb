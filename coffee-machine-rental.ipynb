{
 "cells": [
  {
   "cell_type": "code",
   "execution_count": 1,
   "metadata": {
    "_cell_guid": "b1076dfc-b9ad-4769-8c92-a6c4dae69d19",
    "_uuid": "8f2839f25d086af736a60e9eeb907d3b93b6e0e5",
    "execution": {
     "iopub.execute_input": "2020-12-21T16:10:20.197891Z",
     "iopub.status.busy": "2020-12-21T16:10:20.197166Z",
     "iopub.status.idle": "2020-12-21T16:10:20.224639Z",
     "shell.execute_reply": "2020-12-21T16:10:20.224014Z"
    },
    "papermill": {
     "duration": 0.061869,
     "end_time": "2020-12-21T16:10:20.224782",
     "exception": false,
     "start_time": "2020-12-21T16:10:20.162913",
     "status": "completed"
    },
    "tags": []
   },
   "outputs": [
    {
     "name": "stdout",
     "output_type": "stream",
     "text": [
      "/kaggle/input/coffee-machines-rental/coffeeblent.csv\n"
     ]
    }
   ],
   "source": [
    "# This Python 3 environment comes with many helpful analytics libraries installed\n",
    "# It is defined by the kaggle/python Docker image: https://github.com/kaggle/docker-python\n",
    "# For example, here's several helpful packages to load\n",
    "\n",
    "import numpy as np # linear algebra\n",
    "import pandas as pd # data processing, CSV file I/O (e.g. pd.read_csv)\n",
    "\n",
    "# Input data files are available in the read-only \"../input/\" directory\n",
    "# For example, running this (by clicking run or pressing Shift+Enter) will list all files under the input directory\n",
    "\n",
    "import os\n",
    "for dirname, _, filenames in os.walk('/kaggle/input'):\n",
    "    for filename in filenames:\n",
    "        print(os.path.join(dirname, filename))\n",
    "\n",
    "# You can write up to 20GB to the current directory (/kaggle/working/) that gets preserved as output when you create a version using \"Save & Run All\" \n",
    "# You can also write temporary files to /kaggle/temp/, but they won't be saved outside of the current session"
   ]
  },
  {
   "cell_type": "markdown",
   "metadata": {
    "papermill": {
     "duration": 0.026134,
     "end_time": "2020-12-21T16:10:20.278570",
     "exception": false,
     "start_time": "2020-12-21T16:10:20.252436",
     "status": "completed"
    },
    "tags": []
   },
   "source": [
    "**Import data**"
   ]
  },
  {
   "cell_type": "code",
   "execution_count": 2,
   "metadata": {
    "execution": {
     "iopub.execute_input": "2020-12-21T16:10:20.337663Z",
     "iopub.status.busy": "2020-12-21T16:10:20.336825Z",
     "iopub.status.idle": "2020-12-21T16:10:21.486391Z",
     "shell.execute_reply": "2020-12-21T16:10:21.485587Z"
    },
    "papermill": {
     "duration": 1.180775,
     "end_time": "2020-12-21T16:10:21.486517",
     "exception": false,
     "start_time": "2020-12-21T16:10:20.305742",
     "status": "completed"
    },
    "tags": []
   },
   "outputs": [],
   "source": [
    "import matplotlib.pyplot as plt\n",
    "import seaborn as sns"
   ]
  },
  {
   "cell_type": "code",
   "execution_count": 3,
   "metadata": {
    "_cell_guid": "79c7e3d0-c299-4dcb-8224-4455121ee9b0",
    "_uuid": "d629ff2d2480ee46fbb7e2d37f6b5fab8052498a",
    "execution": {
     "iopub.execute_input": "2020-12-21T16:10:21.550565Z",
     "iopub.status.busy": "2020-12-21T16:10:21.549894Z",
     "iopub.status.idle": "2020-12-21T16:10:21.561677Z",
     "shell.execute_reply": "2020-12-21T16:10:21.562620Z"
    },
    "papermill": {
     "duration": 0.048107,
     "end_time": "2020-12-21T16:10:21.562774",
     "exception": false,
     "start_time": "2020-12-21T16:10:21.514667",
     "status": "completed"
    },
    "tags": []
   },
   "outputs": [],
   "source": [
    "base = pd.read_csv('../input/coffee-machines-rental/coffeeblent.csv')"
   ]
  },
  {
   "cell_type": "markdown",
   "metadata": {
    "papermill": {
     "duration": 0.02688,
     "end_time": "2020-12-21T16:10:21.616378",
     "exception": false,
     "start_time": "2020-12-21T16:10:21.589498",
     "status": "completed"
    },
    "tags": []
   },
   "source": [
    "As we can analyze we have 110 records and 10 columns with one being our objective."
   ]
  },
  {
   "cell_type": "code",
   "execution_count": 4,
   "metadata": {
    "execution": {
     "iopub.execute_input": "2020-12-21T16:10:21.680519Z",
     "iopub.status.busy": "2020-12-21T16:10:21.679805Z",
     "iopub.status.idle": "2020-12-21T16:10:21.713818Z",
     "shell.execute_reply": "2020-12-21T16:10:21.714327Z"
    },
    "papermill": {
     "duration": 0.071503,
     "end_time": "2020-12-21T16:10:21.714480",
     "exception": false,
     "start_time": "2020-12-21T16:10:21.642977",
     "status": "completed"
    },
    "tags": []
   },
   "outputs": [
    {
     "data": {
      "text/html": [
       "<div>\n",
       "<style scoped>\n",
       "    .dataframe tbody tr th:only-of-type {\n",
       "        vertical-align: middle;\n",
       "    }\n",
       "\n",
       "    .dataframe tbody tr th {\n",
       "        vertical-align: top;\n",
       "    }\n",
       "\n",
       "    .dataframe thead th {\n",
       "        text-align: right;\n",
       "    }\n",
       "</style>\n",
       "<table border=\"1\" class=\"dataframe\">\n",
       "  <thead>\n",
       "    <tr style=\"text-align: right;\">\n",
       "      <th></th>\n",
       "      <th>Unnamed: 0</th>\n",
       "      <th>customers</th>\n",
       "      <th>protests</th>\n",
       "      <th>amount due</th>\n",
       "      <th>rent amount</th>\n",
       "      <th>city</th>\n",
       "      <th>commerce</th>\n",
       "      <th>consumes</th>\n",
       "      <th>equipment</th>\n",
       "      <th>target</th>\n",
       "    </tr>\n",
       "  </thead>\n",
       "  <tbody>\n",
       "    <tr>\n",
       "      <th>0</th>\n",
       "      <td>17</td>\n",
       "      <td>customer-18</td>\n",
       "      <td>0</td>\n",
       "      <td>0.0</td>\n",
       "      <td>142</td>\n",
       "      <td>city_2</td>\n",
       "      <td>commerce_2</td>\n",
       "      <td>0</td>\n",
       "      <td>equipment_1</td>\n",
       "      <td>1</td>\n",
       "    </tr>\n",
       "    <tr>\n",
       "      <th>1</th>\n",
       "      <td>2</td>\n",
       "      <td>customer-3</td>\n",
       "      <td>0</td>\n",
       "      <td>0.0</td>\n",
       "      <td>83</td>\n",
       "      <td>city_2</td>\n",
       "      <td>commerce_4</td>\n",
       "      <td>0</td>\n",
       "      <td>equipment_1</td>\n",
       "      <td>1</td>\n",
       "    </tr>\n",
       "    <tr>\n",
       "      <th>2</th>\n",
       "      <td>86</td>\n",
       "      <td>customer-87</td>\n",
       "      <td>0</td>\n",
       "      <td>0.0</td>\n",
       "      <td>99</td>\n",
       "      <td>city_1</td>\n",
       "      <td>commerce_6</td>\n",
       "      <td>1</td>\n",
       "      <td>equipment_1</td>\n",
       "      <td>1</td>\n",
       "    </tr>\n",
       "    <tr>\n",
       "      <th>3</th>\n",
       "      <td>48</td>\n",
       "      <td>customer-49</td>\n",
       "      <td>0</td>\n",
       "      <td>0.0</td>\n",
       "      <td>46</td>\n",
       "      <td>city_1</td>\n",
       "      <td>commerce_5</td>\n",
       "      <td>1</td>\n",
       "      <td>equipment_3</td>\n",
       "      <td>1</td>\n",
       "    </tr>\n",
       "    <tr>\n",
       "      <th>4</th>\n",
       "      <td>68</td>\n",
       "      <td>customer-69</td>\n",
       "      <td>0</td>\n",
       "      <td>0.0</td>\n",
       "      <td>99</td>\n",
       "      <td>city_6</td>\n",
       "      <td>commerce_1</td>\n",
       "      <td>1</td>\n",
       "      <td>equipment_2</td>\n",
       "      <td>1</td>\n",
       "    </tr>\n",
       "    <tr>\n",
       "      <th>...</th>\n",
       "      <td>...</td>\n",
       "      <td>...</td>\n",
       "      <td>...</td>\n",
       "      <td>...</td>\n",
       "      <td>...</td>\n",
       "      <td>...</td>\n",
       "      <td>...</td>\n",
       "      <td>...</td>\n",
       "      <td>...</td>\n",
       "      <td>...</td>\n",
       "    </tr>\n",
       "    <tr>\n",
       "      <th>105</th>\n",
       "      <td>35</td>\n",
       "      <td>customer-36</td>\n",
       "      <td>0</td>\n",
       "      <td>0.0</td>\n",
       "      <td>50</td>\n",
       "      <td>city_1</td>\n",
       "      <td>commerce_3</td>\n",
       "      <td>1</td>\n",
       "      <td>equipment_3</td>\n",
       "      <td>1</td>\n",
       "    </tr>\n",
       "    <tr>\n",
       "      <th>106</th>\n",
       "      <td>37</td>\n",
       "      <td>customer-38</td>\n",
       "      <td>0</td>\n",
       "      <td>0.0</td>\n",
       "      <td>165</td>\n",
       "      <td>city_5</td>\n",
       "      <td>commerce_2</td>\n",
       "      <td>0</td>\n",
       "      <td>equipment_1</td>\n",
       "      <td>1</td>\n",
       "    </tr>\n",
       "    <tr>\n",
       "      <th>107</th>\n",
       "      <td>41</td>\n",
       "      <td>customer-42</td>\n",
       "      <td>0</td>\n",
       "      <td>0.0</td>\n",
       "      <td>86</td>\n",
       "      <td>city_1</td>\n",
       "      <td>commerce_2</td>\n",
       "      <td>1</td>\n",
       "      <td>equipment_2</td>\n",
       "      <td>1</td>\n",
       "    </tr>\n",
       "    <tr>\n",
       "      <th>108</th>\n",
       "      <td>45</td>\n",
       "      <td>customer-46</td>\n",
       "      <td>0</td>\n",
       "      <td>0.0</td>\n",
       "      <td>46</td>\n",
       "      <td>city_1</td>\n",
       "      <td>commerce_5</td>\n",
       "      <td>1</td>\n",
       "      <td>equipment_3</td>\n",
       "      <td>1</td>\n",
       "    </tr>\n",
       "    <tr>\n",
       "      <th>109</th>\n",
       "      <td>32</td>\n",
       "      <td>customer-33</td>\n",
       "      <td>0</td>\n",
       "      <td>0.0</td>\n",
       "      <td>50</td>\n",
       "      <td>city_1</td>\n",
       "      <td>commerce_4</td>\n",
       "      <td>1</td>\n",
       "      <td>equipment_3</td>\n",
       "      <td>1</td>\n",
       "    </tr>\n",
       "  </tbody>\n",
       "</table>\n",
       "<p>110 rows × 10 columns</p>\n",
       "</div>"
      ],
      "text/plain": [
       "     Unnamed: 0    customers  protests  amount due  rent amount    city  \\\n",
       "0            17  customer-18         0         0.0          142  city_2   \n",
       "1             2   customer-3         0         0.0           83  city_2   \n",
       "2            86  customer-87         0         0.0           99  city_1   \n",
       "3            48  customer-49         0         0.0           46  city_1   \n",
       "4            68  customer-69         0         0.0           99  city_6   \n",
       "..          ...          ...       ...         ...          ...     ...   \n",
       "105          35  customer-36         0         0.0           50  city_1   \n",
       "106          37  customer-38         0         0.0          165  city_5   \n",
       "107          41  customer-42         0         0.0           86  city_1   \n",
       "108          45  customer-46         0         0.0           46  city_1   \n",
       "109          32  customer-33         0         0.0           50  city_1   \n",
       "\n",
       "       commerce  consumes    equipment  target  \n",
       "0    commerce_2         0  equipment_1       1  \n",
       "1    commerce_4         0  equipment_1       1  \n",
       "2    commerce_6         1  equipment_1       1  \n",
       "3    commerce_5         1  equipment_3       1  \n",
       "4    commerce_1         1  equipment_2       1  \n",
       "..          ...       ...          ...     ...  \n",
       "105  commerce_3         1  equipment_3       1  \n",
       "106  commerce_2         0  equipment_1       1  \n",
       "107  commerce_2         1  equipment_2       1  \n",
       "108  commerce_5         1  equipment_3       1  \n",
       "109  commerce_4         1  equipment_3       1  \n",
       "\n",
       "[110 rows x 10 columns]"
      ]
     },
     "execution_count": 4,
     "metadata": {},
     "output_type": "execute_result"
    }
   ],
   "source": [
    "base"
   ]
  },
  {
   "cell_type": "code",
   "execution_count": 5,
   "metadata": {
    "execution": {
     "iopub.execute_input": "2020-12-21T16:10:21.775162Z",
     "iopub.status.busy": "2020-12-21T16:10:21.774434Z",
     "iopub.status.idle": "2020-12-21T16:10:21.788569Z",
     "shell.execute_reply": "2020-12-21T16:10:21.789126Z"
    },
    "papermill": {
     "duration": 0.047037,
     "end_time": "2020-12-21T16:10:21.789313",
     "exception": false,
     "start_time": "2020-12-21T16:10:21.742276",
     "status": "completed"
    },
    "tags": []
   },
   "outputs": [
    {
     "name": "stdout",
     "output_type": "stream",
     "text": [
      "<class 'pandas.core.frame.DataFrame'>\n",
      "RangeIndex: 110 entries, 0 to 109\n",
      "Data columns (total 10 columns):\n",
      " #   Column       Non-Null Count  Dtype  \n",
      "---  ------       --------------  -----  \n",
      " 0   Unnamed: 0   110 non-null    int64  \n",
      " 1   customers    110 non-null    object \n",
      " 2   protests     110 non-null    int64  \n",
      " 3   amount due   110 non-null    float64\n",
      " 4   rent amount  110 non-null    int64  \n",
      " 5   city         110 non-null    object \n",
      " 6   commerce     110 non-null    object \n",
      " 7   consumes     110 non-null    int64  \n",
      " 8   equipment    110 non-null    object \n",
      " 9   target       110 non-null    int64  \n",
      "dtypes: float64(1), int64(5), object(4)\n",
      "memory usage: 8.7+ KB\n"
     ]
    }
   ],
   "source": [
    "base.info()"
   ]
  },
  {
   "cell_type": "markdown",
   "metadata": {
    "papermill": {
     "duration": 0.027624,
     "end_time": "2020-12-21T16:10:21.845523",
     "exception": false,
     "start_time": "2020-12-21T16:10:21.817899",
     "status": "completed"
    },
    "tags": []
   },
   "source": [
    "**Data Analysis**"
   ]
  },
  {
   "cell_type": "markdown",
   "metadata": {
    "papermill": {
     "duration": 0.027736,
     "end_time": "2020-12-21T16:10:21.901462",
     "exception": false,
     "start_time": "2020-12-21T16:10:21.873726",
     "status": "completed"
    },
    "tags": []
   },
   "source": [
    "Will analyze we target columns"
   ]
  },
  {
   "cell_type": "code",
   "execution_count": 6,
   "metadata": {
    "execution": {
     "iopub.execute_input": "2020-12-21T16:10:21.965380Z",
     "iopub.status.busy": "2020-12-21T16:10:21.964681Z",
     "iopub.status.idle": "2020-12-21T16:10:22.159948Z",
     "shell.execute_reply": "2020-12-21T16:10:22.159244Z"
    },
    "papermill": {
     "duration": 0.230147,
     "end_time": "2020-12-21T16:10:22.160079",
     "exception": false,
     "start_time": "2020-12-21T16:10:21.929932",
     "status": "completed"
    },
    "tags": []
   },
   "outputs": [
    {
     "data": {
      "image/png": "[encoded data removed]",
      "text/plain": [
       "<Figure size 720x720 with 1 Axes>"
      ]
     },
     "metadata": {
      "needs_background": "light"
     },
     "output_type": "display_data"
    }
   ],
   "source": [
    "plt.figure(figsize=(10,10))\n",
    "ax = sns.countplot(x=\"target\", data=base)\n",
    "plt.title(\"Comparation\")\n",
    "ax.set(xlabel='0 - No / 1 - Yes', ylabel='Amount')\n",
    "plt.show()"
   ]
  },
  {
   "cell_type": "markdown",
   "metadata": {
    "papermill": {
     "duration": 0.029146,
     "end_time": "2020-12-21T16:10:22.219599",
     "exception": false,
     "start_time": "2020-12-21T16:10:22.190453",
     "status": "completed"
    },
    "tags": []
   },
   "source": [
    "*We can see that the customers bad payers often to have protests*"
   ]
  },
  {
   "cell_type": "code",
   "execution_count": 7,
   "metadata": {
    "execution": {
     "iopub.execute_input": "2020-12-21T16:10:22.288281Z",
     "iopub.status.busy": "2020-12-21T16:10:22.287602Z",
     "iopub.status.idle": "2020-12-21T16:10:22.520022Z",
     "shell.execute_reply": "2020-12-21T16:10:22.519281Z"
    },
    "papermill": {
     "duration": 0.270979,
     "end_time": "2020-12-21T16:10:22.520142",
     "exception": false,
     "start_time": "2020-12-21T16:10:22.249163",
     "status": "completed"
    },
    "tags": []
   },
   "outputs": [
    {
     "data": {
      "image/png": "[encoded data removed]",
      "text/plain": [
       "<Figure size 1080x720 with 1 Axes>"
      ]
     },
     "metadata": {
      "needs_background": "light"
     },
     "output_type": "display_data"
    }
   ],
   "source": [
    "plt.figure(figsize=(15,10))\n",
    "ax = sns.countplot(x=\"protests\", hue=\"target\", data=base)\n",
    "plt.title(\"Comparation with protests\")\n",
    "ax.set(xlabel='Amount protests', ylabel='Amount')\n",
    "plt.show()"
   ]
  },
  {
   "cell_type": "code",
   "execution_count": 8,
   "metadata": {
    "execution": {
     "iopub.execute_input": "2020-12-21T16:10:22.607041Z",
     "iopub.status.busy": "2020-12-21T16:10:22.605744Z",
     "iopub.status.idle": "2020-12-21T16:10:22.817522Z",
     "shell.execute_reply": "2020-12-21T16:10:22.816968Z"
    },
    "papermill": {
     "duration": 0.266942,
     "end_time": "2020-12-21T16:10:22.817634",
     "exception": false,
     "start_time": "2020-12-21T16:10:22.550692",
     "status": "completed"
    },
    "tags": []
   },
   "outputs": [
    {
     "data": {
      "image/png": "[encoded data removed]",
      "text/plain": [
       "<Figure size 720x720 with 1 Axes>"
      ]
     },
     "metadata": {
      "needs_background": "light"
     },
     "output_type": "display_data"
    }
   ],
   "source": [
    "plt.figure(figsize=(10,10))\n",
    "ax = sns.countplot(x=\"city\", hue='target', data=base)\n",
    "plt.title(\"Comparing between citys\")\n",
    "ax.set(xlabel='City', ylabel='Amounts')\n",
    "plt.show()"
   ]
  },
  {
   "cell_type": "code",
   "execution_count": 9,
   "metadata": {
    "execution": {
     "iopub.execute_input": "2020-12-21T16:10:22.898603Z",
     "iopub.status.busy": "2020-12-21T16:10:22.888967Z",
     "iopub.status.idle": "2020-12-21T16:10:23.090345Z",
     "shell.execute_reply": "2020-12-21T16:10:23.090860Z"
    },
    "papermill": {
     "duration": 0.242244,
     "end_time": "2020-12-21T16:10:23.091019",
     "exception": false,
     "start_time": "2020-12-21T16:10:22.848775",
     "status": "completed"
    },
    "tags": []
   },
   "outputs": [
    {
     "data": {
      "image/png": "[encoded data removed]",
      "text/plain": [
       "<Figure size 720x720 with 1 Axes>"
      ]
     },
     "metadata": {
      "needs_background": "light"
     },
     "output_type": "display_data"
    }
   ],
   "source": [
    "plt.figure(figsize=(10,10))\n",
    "ax = sns.countplot(x=\"commerce\", hue='target', data=base)\n",
    "plt.title(\"Comparing between commerce\")\n",
    "ax.set(xlabel='Commerce', ylabel='Amounts')\n",
    "plt.show()"
   ]
  },
  {
   "cell_type": "code",
   "execution_count": 10,
   "metadata": {
    "execution": {
     "iopub.execute_input": "2020-12-21T16:10:23.167952Z",
     "iopub.status.busy": "2020-12-21T16:10:23.165227Z",
     "iopub.status.idle": "2020-12-21T16:10:23.508629Z",
     "shell.execute_reply": "2020-12-21T16:10:23.509240Z"
    },
    "papermill": {
     "duration": 0.385509,
     "end_time": "2020-12-21T16:10:23.509391",
     "exception": false,
     "start_time": "2020-12-21T16:10:23.123882",
     "status": "completed"
    },
    "tags": []
   },
   "outputs": [
    {
     "data": {
      "image/png": "[encoded data removed]",
      "text/plain": [
       "<Figure size 1080x720 with 1 Axes>"
      ]
     },
     "metadata": {
      "needs_background": "light"
     },
     "output_type": "display_data"
    }
   ],
   "source": [
    "plt.figure(figsize=(15,10))\n",
    "ax = sns.countplot(x=\"rent amount\", hue='target', data=base)\n",
    "plt.title(\"Comparing between rent amount\")\n",
    "ax.set(xlabel='rent amount', ylabel='Amounts')\n",
    "plt.show()"
   ]
  },
  {
   "cell_type": "code",
   "execution_count": 11,
   "metadata": {
    "execution": {
     "iopub.execute_input": "2020-12-21T16:10:23.579211Z",
     "iopub.status.busy": "2020-12-21T16:10:23.578458Z",
     "iopub.status.idle": "2020-12-21T16:10:23.812247Z",
     "shell.execute_reply": "2020-12-21T16:10:23.812743Z"
    },
    "papermill": {
     "duration": 0.270526,
     "end_time": "2020-12-21T16:10:23.812930",
     "exception": false,
     "start_time": "2020-12-21T16:10:23.542404",
     "status": "completed"
    },
    "tags": []
   },
   "outputs": [
    {
     "data": {
      "image/png": "[encoded data removed]",
      "text/plain": [
       "<Figure size 720x720 with 1 Axes>"
      ]
     },
     "metadata": {
      "needs_background": "light"
     },
     "output_type": "display_data"
    }
   ],
   "source": [
    "plt.figure(figsize=(10,10))\n",
    "ax = sns.countplot(x=\"consumes\", hue='target', data=base)\n",
    "plt.title(\"Comparing between rent consumes\")\n",
    "ax.set(xlabel='consumes', ylabel='Amounts')\n",
    "plt.show()"
   ]
  },
  {
   "cell_type": "code",
   "execution_count": 12,
   "metadata": {
    "execution": {
     "iopub.execute_input": "2020-12-21T16:10:23.884799Z",
     "iopub.status.busy": "2020-12-21T16:10:23.884132Z",
     "iopub.status.idle": "2020-12-21T16:10:24.052322Z",
     "shell.execute_reply": "2020-12-21T16:10:24.053045Z"
    },
    "papermill": {
     "duration": 0.206,
     "end_time": "2020-12-21T16:10:24.053267",
     "exception": false,
     "start_time": "2020-12-21T16:10:23.847267",
     "status": "completed"
    },
    "tags": []
   },
   "outputs": [
    {
     "data": {
      "image/png": "[encoded data removed]",
      "text/plain": [
       "<Figure size 720x720 with 1 Axes>"
      ]
     },
     "metadata": {
      "needs_background": "light"
     },
     "output_type": "display_data"
    }
   ],
   "source": [
    "plt.figure(figsize=(10,10))\n",
    "ax = sns.countplot(x=\"equipment\", hue='target', data=base)\n",
    "plt.title(\"Comparing between equipment\")\n",
    "ax.set(xlabel='equipment', ylabel='Amounts')\n",
    "plt.show()"
   ]
  },
  {
   "cell_type": "code",
   "execution_count": 13,
   "metadata": {
    "execution": {
     "iopub.execute_input": "2020-12-21T16:10:24.127781Z",
     "iopub.status.busy": "2020-12-21T16:10:24.126959Z",
     "iopub.status.idle": "2020-12-21T16:10:24.136243Z",
     "shell.execute_reply": "2020-12-21T16:10:24.136815Z"
    },
    "papermill": {
     "duration": 0.048481,
     "end_time": "2020-12-21T16:10:24.137036",
     "exception": false,
     "start_time": "2020-12-21T16:10:24.088555",
     "status": "completed"
    },
    "tags": []
   },
   "outputs": [],
   "source": [
    "yes_df_equipment1 = base.loc[(base.target == 1) & (base.equipment == 'equipment_1')]\n",
    "no_df_equipment1 = base.loc[(base.target == 0) & (base.equipment == 'equipment_1')]"
   ]
  },
  {
   "cell_type": "markdown",
   "metadata": {
    "papermill": {
     "duration": 0.035028,
     "end_time": "2020-12-21T16:10:24.207058",
     "exception": false,
     "start_time": "2020-12-21T16:10:24.172030",
     "status": "completed"
    },
    "tags": []
   },
   "source": [
    "*Related the equipament_1 when is rent very low amount the customers no pay.*"
   ]
  },
  {
   "cell_type": "code",
   "execution_count": 14,
   "metadata": {
    "execution": {
     "iopub.execute_input": "2020-12-21T16:10:24.291073Z",
     "iopub.status.busy": "2020-12-21T16:10:24.290273Z",
     "iopub.status.idle": "2020-12-21T16:10:24.490279Z",
     "shell.execute_reply": "2020-12-21T16:10:24.490763Z"
    },
    "papermill": {
     "duration": 0.248948,
     "end_time": "2020-12-21T16:10:24.490931",
     "exception": false,
     "start_time": "2020-12-21T16:10:24.241983",
     "status": "completed"
    },
    "tags": []
   },
   "outputs": [
    {
     "data": {
      "image/png": "[encoded data removed]",
      "text/plain": [
       "<Figure size 864x504 with 1 Axes>"
      ]
     },
     "metadata": {
      "needs_background": "light"
     },
     "output_type": "display_data"
    }
   ],
   "source": [
    "plt.figure(figsize=(12,7))\n",
    "ax = sns.kdeplot(yes_df_equipment1['rent amount'], label = 'Good Payers', shade = True, color = 'g')\n",
    "ax = sns.kdeplot(no_df_equipment1['rent amount'], label = 'Bad Payers', shade = True, color = 'r');\n",
    "plt.title(\"In green good payers and red bad\")\n",
    "plt.show()"
   ]
  },
  {
   "cell_type": "code",
   "execution_count": 15,
   "metadata": {
    "execution": {
     "iopub.execute_input": "2020-12-21T16:10:24.567563Z",
     "iopub.status.busy": "2020-12-21T16:10:24.566820Z",
     "iopub.status.idle": "2020-12-21T16:10:24.953934Z",
     "shell.execute_reply": "2020-12-21T16:10:24.954487Z"
    },
    "papermill": {
     "duration": 0.427314,
     "end_time": "2020-12-21T16:10:24.954634",
     "exception": false,
     "start_time": "2020-12-21T16:10:24.527320",
     "status": "completed"
    },
    "tags": []
   },
   "outputs": [
    {
     "data": {
      "text/plain": [
       "<matplotlib.axes._subplots.AxesSubplot at 0x7f66886ce8d0>"
      ]
     },
     "execution_count": 15,
     "metadata": {},
     "output_type": "execute_result"
    },
    {
     "data": {
      "image/png": "[encoded data removed]",
      "text/plain": [
       "<Figure size 1080x1080 with 2 Axes>"
      ]
     },
     "metadata": {
      "needs_background": "light"
     },
     "output_type": "display_data"
    }
   ],
   "source": [
    "correlations = base.corr()\n",
    "\n",
    "f, ax = plt.subplots(figsize=(15,15))\n",
    "sns.heatmap(correlations, annot=True)"
   ]
  },
  {
   "cell_type": "code",
   "execution_count": 16,
   "metadata": {
    "execution": {
     "iopub.execute_input": "2020-12-21T16:10:25.068294Z",
     "iopub.status.busy": "2020-12-21T16:10:25.067562Z",
     "iopub.status.idle": "2020-12-21T16:10:25.070522Z",
     "shell.execute_reply": "2020-12-21T16:10:25.071160Z"
    },
    "papermill": {
     "duration": 0.058649,
     "end_time": "2020-12-21T16:10:25.071352",
     "exception": false,
     "start_time": "2020-12-21T16:10:25.012703",
     "status": "completed"
    },
    "tags": []
   },
   "outputs": [],
   "source": [
    "yes_target = base[base['target'] == 1]\n",
    "no_target = base[base['target'] == 0]"
   ]
  },
  {
   "cell_type": "code",
   "execution_count": 17,
   "metadata": {
    "execution": {
     "iopub.execute_input": "2020-12-21T16:10:25.167450Z",
     "iopub.status.busy": "2020-12-21T16:10:25.166746Z",
     "iopub.status.idle": "2020-12-21T16:10:25.381938Z",
     "shell.execute_reply": "2020-12-21T16:10:25.381191Z"
    },
    "papermill": {
     "duration": 0.267097,
     "end_time": "2020-12-21T16:10:25.382064",
     "exception": false,
     "start_time": "2020-12-21T16:10:25.114967",
     "status": "completed"
    },
    "tags": []
   },
   "outputs": [
    {
     "data": {
      "image/png": "[encoded data removed]",
      "text/plain": [
       "<Figure size 864x504 with 1 Axes>"
      ]
     },
     "metadata": {
      "needs_background": "light"
     },
     "output_type": "display_data"
    }
   ],
   "source": [
    "plt.figure(figsize=(12,7))\n",
    "ax = sns.kdeplot(yes_target['rent amount'], bw=1, label = 'Good Payers', shade = True, color = 'g')\n",
    "ax = sns.kdeplot(no_target['rent amount'],bw=1, label = 'Bad Payers', shade = True, color = 'r');\n",
    "plt.title(\"In green good payers and red bad\")\n",
    "plt.show()"
   ]
  },
  {
   "cell_type": "code",
   "execution_count": 18,
   "metadata": {
    "execution": {
     "iopub.execute_input": "2020-12-21T16:10:25.475363Z",
     "iopub.status.busy": "2020-12-21T16:10:25.474280Z",
     "iopub.status.idle": "2020-12-21T16:10:25.732615Z",
     "shell.execute_reply": "2020-12-21T16:10:25.731618Z"
    },
    "papermill": {
     "duration": 0.308441,
     "end_time": "2020-12-21T16:10:25.732760",
     "exception": false,
     "start_time": "2020-12-21T16:10:25.424319",
     "status": "completed"
    },
    "tags": []
   },
   "outputs": [
    {
     "data": {
      "image/png": "[encoded data removed]",
      "text/plain": [
       "<Figure size 1080x720 with 1 Axes>"
      ]
     },
     "metadata": {
      "needs_background": "light"
     },
     "output_type": "display_data"
    }
   ],
   "source": [
    "plt.figure(figsize=(15, 10))\n",
    "sns.boxplot(x = 'target', y = 'city', data=base);"
   ]
  },
  {
   "cell_type": "code",
   "execution_count": 19,
   "metadata": {
    "execution": {
     "iopub.execute_input": "2020-12-21T16:10:25.824478Z",
     "iopub.status.busy": "2020-12-21T16:10:25.823520Z",
     "iopub.status.idle": "2020-12-21T16:10:26.000818Z",
     "shell.execute_reply": "2020-12-21T16:10:26.001404Z"
    },
    "papermill": {
     "duration": 0.226205,
     "end_time": "2020-12-21T16:10:26.001550",
     "exception": false,
     "start_time": "2020-12-21T16:10:25.775345",
     "status": "completed"
    },
    "tags": []
   },
   "outputs": [
    {
     "data": {
      "image/png": "[encoded data removed]",
      "text/plain": [
       "<Figure size 1080x720 with 1 Axes>"
      ]
     },
     "metadata": {
      "needs_background": "light"
     },
     "output_type": "display_data"
    }
   ],
   "source": [
    "plt.figure(figsize=(15, 10))\n",
    "sns.boxplot(x = 'target', y = 'equipment', data=base);"
   ]
  },
  {
   "cell_type": "code",
   "execution_count": 20,
   "metadata": {
    "execution": {
     "iopub.execute_input": "2020-12-21T16:10:26.091073Z",
     "iopub.status.busy": "2020-12-21T16:10:26.090396Z",
     "iopub.status.idle": "2020-12-21T16:10:26.318166Z",
     "shell.execute_reply": "2020-12-21T16:10:26.318714Z"
    },
    "papermill": {
     "duration": 0.274121,
     "end_time": "2020-12-21T16:10:26.318941",
     "exception": false,
     "start_time": "2020-12-21T16:10:26.044820",
     "status": "completed"
    },
    "tags": []
   },
   "outputs": [
    {
     "data": {
      "image/png": "[encoded data removed]",
      "text/plain": [
       "<Figure size 1080x720 with 1 Axes>"
      ]
     },
     "metadata": {
      "needs_background": "light"
     },
     "output_type": "display_data"
    }
   ],
   "source": [
    "plt.figure(figsize=(15, 10))\n",
    "sns.boxplot(x = 'target', y = 'commerce', data=base);"
   ]
  },
  {
   "cell_type": "code",
   "execution_count": 21,
   "metadata": {
    "execution": {
     "iopub.execute_input": "2020-12-21T16:10:26.409354Z",
     "iopub.status.busy": "2020-12-21T16:10:26.408658Z",
     "iopub.status.idle": "2020-12-21T16:10:26.439366Z",
     "shell.execute_reply": "2020-12-21T16:10:26.438808Z"
    },
    "papermill": {
     "duration": 0.07708,
     "end_time": "2020-12-21T16:10:26.439485",
     "exception": false,
     "start_time": "2020-12-21T16:10:26.362405",
     "status": "completed"
    },
    "tags": []
   },
   "outputs": [
    {
     "data": {
      "text/html": [
       "<div>\n",
       "<style scoped>\n",
       "    .dataframe tbody tr th:only-of-type {\n",
       "        vertical-align: middle;\n",
       "    }\n",
       "\n",
       "    .dataframe tbody tr th {\n",
       "        vertical-align: top;\n",
       "    }\n",
       "\n",
       "    .dataframe thead th {\n",
       "        text-align: right;\n",
       "    }\n",
       "</style>\n",
       "<table border=\"1\" class=\"dataframe\">\n",
       "  <thead>\n",
       "    <tr style=\"text-align: right;\">\n",
       "      <th></th>\n",
       "      <th>Unnamed: 0</th>\n",
       "      <th>protests</th>\n",
       "      <th>amount due</th>\n",
       "      <th>rent amount</th>\n",
       "      <th>consumes</th>\n",
       "      <th>target</th>\n",
       "    </tr>\n",
       "  </thead>\n",
       "  <tbody>\n",
       "    <tr>\n",
       "      <th>count</th>\n",
       "      <td>110.000000</td>\n",
       "      <td>110.000000</td>\n",
       "      <td>110.000000</td>\n",
       "      <td>110.000000</td>\n",
       "      <td>110.000000</td>\n",
       "      <td>110.000000</td>\n",
       "    </tr>\n",
       "    <tr>\n",
       "      <th>mean</th>\n",
       "      <td>54.500000</td>\n",
       "      <td>0.372727</td>\n",
       "      <td>46.204682</td>\n",
       "      <td>109.345455</td>\n",
       "      <td>0.618182</td>\n",
       "      <td>0.690909</td>\n",
       "    </tr>\n",
       "    <tr>\n",
       "      <th>std</th>\n",
       "      <td>31.898276</td>\n",
       "      <td>0.975471</td>\n",
       "      <td>146.826244</td>\n",
       "      <td>39.143921</td>\n",
       "      <td>0.488056</td>\n",
       "      <td>0.464234</td>\n",
       "    </tr>\n",
       "    <tr>\n",
       "      <th>min</th>\n",
       "      <td>0.000000</td>\n",
       "      <td>0.000000</td>\n",
       "      <td>0.000000</td>\n",
       "      <td>33.000000</td>\n",
       "      <td>0.000000</td>\n",
       "      <td>0.000000</td>\n",
       "    </tr>\n",
       "    <tr>\n",
       "      <th>25%</th>\n",
       "      <td>27.250000</td>\n",
       "      <td>0.000000</td>\n",
       "      <td>0.000000</td>\n",
       "      <td>83.000000</td>\n",
       "      <td>0.000000</td>\n",
       "      <td>0.000000</td>\n",
       "    </tr>\n",
       "    <tr>\n",
       "      <th>50%</th>\n",
       "      <td>54.500000</td>\n",
       "      <td>0.000000</td>\n",
       "      <td>0.000000</td>\n",
       "      <td>119.000000</td>\n",
       "      <td>1.000000</td>\n",
       "      <td>1.000000</td>\n",
       "    </tr>\n",
       "    <tr>\n",
       "      <th>75%</th>\n",
       "      <td>81.750000</td>\n",
       "      <td>0.000000</td>\n",
       "      <td>2.680750</td>\n",
       "      <td>139.000000</td>\n",
       "      <td>1.000000</td>\n",
       "      <td>1.000000</td>\n",
       "    </tr>\n",
       "    <tr>\n",
       "      <th>max</th>\n",
       "      <td>109.000000</td>\n",
       "      <td>5.000000</td>\n",
       "      <td>720.000000</td>\n",
       "      <td>165.000000</td>\n",
       "      <td>1.000000</td>\n",
       "      <td>1.000000</td>\n",
       "    </tr>\n",
       "  </tbody>\n",
       "</table>\n",
       "</div>"
      ],
      "text/plain": [
       "       Unnamed: 0    protests  amount due  rent amount    consumes      target\n",
       "count  110.000000  110.000000  110.000000   110.000000  110.000000  110.000000\n",
       "mean    54.500000    0.372727   46.204682   109.345455    0.618182    0.690909\n",
       "std     31.898276    0.975471  146.826244    39.143921    0.488056    0.464234\n",
       "min      0.000000    0.000000    0.000000    33.000000    0.000000    0.000000\n",
       "25%     27.250000    0.000000    0.000000    83.000000    0.000000    0.000000\n",
       "50%     54.500000    0.000000    0.000000   119.000000    1.000000    1.000000\n",
       "75%     81.750000    0.000000    2.680750   139.000000    1.000000    1.000000\n",
       "max    109.000000    5.000000  720.000000   165.000000    1.000000    1.000000"
      ]
     },
     "execution_count": 21,
     "metadata": {},
     "output_type": "execute_result"
    }
   ],
   "source": [
    "base.describe()"
   ]
  },
  {
   "cell_type": "markdown",
   "metadata": {
    "papermill": {
     "duration": 0.043355,
     "end_time": "2020-12-21T16:10:26.526378",
     "exception": false,
     "start_time": "2020-12-21T16:10:26.483023",
     "status": "completed"
    },
    "tags": []
   },
   "source": [
    "**Preprocessing**"
   ]
  },
  {
   "cell_type": "markdown",
   "metadata": {
    "papermill": {
     "duration": 0.043008,
     "end_time": "2020-12-21T16:10:26.613157",
     "exception": false,
     "start_time": "2020-12-21T16:10:26.570149",
     "status": "completed"
    },
    "tags": []
   },
   "source": [
    "*We will use tree in ours predictions and no to need use one-hot-encoding.*\n",
    "*We will use label-encoder*"
   ]
  },
  {
   "cell_type": "code",
   "execution_count": 22,
   "metadata": {
    "execution": {
     "iopub.execute_input": "2020-12-21T16:10:26.707792Z",
     "iopub.status.busy": "2020-12-21T16:10:26.706762Z",
     "iopub.status.idle": "2020-12-21T16:10:26.711087Z",
     "shell.execute_reply": "2020-12-21T16:10:26.711637Z"
    },
    "papermill": {
     "duration": 0.054747,
     "end_time": "2020-12-21T16:10:26.711777",
     "exception": false,
     "start_time": "2020-12-21T16:10:26.657030",
     "status": "completed"
    },
    "tags": []
   },
   "outputs": [
    {
     "data": {
      "text/plain": [
       "Index(['Unnamed: 0', 'customers', 'protests', 'amount due', 'rent amount',\n",
       "       'city', 'commerce', 'consumes', 'equipment', 'target'],\n",
       "      dtype='object')"
      ]
     },
     "execution_count": 22,
     "metadata": {},
     "output_type": "execute_result"
    }
   ],
   "source": [
    "base.columns"
   ]
  },
  {
   "cell_type": "code",
   "execution_count": 23,
   "metadata": {
    "execution": {
     "iopub.execute_input": "2020-12-21T16:10:26.809092Z",
     "iopub.status.busy": "2020-12-21T16:10:26.808206Z",
     "iopub.status.idle": "2020-12-21T16:10:26.811198Z",
     "shell.execute_reply": "2020-12-21T16:10:26.811725Z"
    },
    "papermill": {
     "duration": 0.055653,
     "end_time": "2020-12-21T16:10:26.812013",
     "exception": false,
     "start_time": "2020-12-21T16:10:26.756360",
     "status": "completed"
    },
    "tags": []
   },
   "outputs": [],
   "source": [
    "base_categorical = base[['city', 'commerce', 'consumes', 'equipment']]"
   ]
  },
  {
   "cell_type": "code",
   "execution_count": 24,
   "metadata": {
    "execution": {
     "iopub.execute_input": "2020-12-21T16:10:26.905789Z",
     "iopub.status.busy": "2020-12-21T16:10:26.905103Z",
     "iopub.status.idle": "2020-12-21T16:10:26.995659Z",
     "shell.execute_reply": "2020-12-21T16:10:26.994537Z"
    },
    "papermill": {
     "duration": 0.139165,
     "end_time": "2020-12-21T16:10:26.995858",
     "exception": false,
     "start_time": "2020-12-21T16:10:26.856693",
     "status": "completed"
    },
    "tags": []
   },
   "outputs": [],
   "source": [
    "from sklearn.preprocessing import LabelEncoder\n",
    "from collections import defaultdict\n",
    "d = defaultdict(LabelEncoder)\n",
    "\n",
    "base_categorical = base_categorical.apply(lambda x: d[x.name].fit_transform(x))"
   ]
  },
  {
   "cell_type": "code",
   "execution_count": 25,
   "metadata": {
    "execution": {
     "iopub.execute_input": "2020-12-21T16:10:27.094020Z",
     "iopub.status.busy": "2020-12-21T16:10:27.093274Z",
     "iopub.status.idle": "2020-12-21T16:10:27.100574Z",
     "shell.execute_reply": "2020-12-21T16:10:27.099928Z"
    },
    "papermill": {
     "duration": 0.058757,
     "end_time": "2020-12-21T16:10:27.100684",
     "exception": false,
     "start_time": "2020-12-21T16:10:27.041927",
     "status": "completed"
    },
    "tags": []
   },
   "outputs": [
    {
     "data": {
      "text/html": [
       "<div>\n",
       "<style scoped>\n",
       "    .dataframe tbody tr th:only-of-type {\n",
       "        vertical-align: middle;\n",
       "    }\n",
       "\n",
       "    .dataframe tbody tr th {\n",
       "        vertical-align: top;\n",
       "    }\n",
       "\n",
       "    .dataframe thead th {\n",
       "        text-align: right;\n",
       "    }\n",
       "</style>\n",
       "<table border=\"1\" class=\"dataframe\">\n",
       "  <thead>\n",
       "    <tr style=\"text-align: right;\">\n",
       "      <th></th>\n",
       "      <th>city</th>\n",
       "      <th>commerce</th>\n",
       "      <th>consumes</th>\n",
       "      <th>equipment</th>\n",
       "    </tr>\n",
       "  </thead>\n",
       "  <tbody>\n",
       "    <tr>\n",
       "      <th>0</th>\n",
       "      <td>1</td>\n",
       "      <td>1</td>\n",
       "      <td>0</td>\n",
       "      <td>0</td>\n",
       "    </tr>\n",
       "    <tr>\n",
       "      <th>1</th>\n",
       "      <td>1</td>\n",
       "      <td>3</td>\n",
       "      <td>0</td>\n",
       "      <td>0</td>\n",
       "    </tr>\n",
       "    <tr>\n",
       "      <th>2</th>\n",
       "      <td>0</td>\n",
       "      <td>5</td>\n",
       "      <td>1</td>\n",
       "      <td>0</td>\n",
       "    </tr>\n",
       "    <tr>\n",
       "      <th>3</th>\n",
       "      <td>0</td>\n",
       "      <td>4</td>\n",
       "      <td>1</td>\n",
       "      <td>2</td>\n",
       "    </tr>\n",
       "    <tr>\n",
       "      <th>4</th>\n",
       "      <td>5</td>\n",
       "      <td>0</td>\n",
       "      <td>1</td>\n",
       "      <td>1</td>\n",
       "    </tr>\n",
       "  </tbody>\n",
       "</table>\n",
       "</div>"
      ],
      "text/plain": [
       "   city  commerce  consumes  equipment\n",
       "0     1         1         0          0\n",
       "1     1         3         0          0\n",
       "2     0         5         1          0\n",
       "3     0         4         1          2\n",
       "4     5         0         1          1"
      ]
     },
     "execution_count": 25,
     "metadata": {},
     "output_type": "execute_result"
    }
   ],
   "source": [
    "base_categorical.head()"
   ]
  },
  {
   "cell_type": "code",
   "execution_count": 26,
   "metadata": {
    "execution": {
     "iopub.execute_input": "2020-12-21T16:10:27.199872Z",
     "iopub.status.busy": "2020-12-21T16:10:27.198719Z",
     "iopub.status.idle": "2020-12-21T16:10:27.202218Z",
     "shell.execute_reply": "2020-12-21T16:10:27.201655Z"
    },
    "papermill": {
     "duration": 0.055228,
     "end_time": "2020-12-21T16:10:27.202339",
     "exception": false,
     "start_time": "2020-12-21T16:10:27.147111",
     "status": "completed"
    },
    "tags": []
   },
   "outputs": [],
   "source": [
    "base_numerical = base[['protests', 'amount due', 'rent amount','consumes']]"
   ]
  },
  {
   "cell_type": "code",
   "execution_count": 27,
   "metadata": {
    "execution": {
     "iopub.execute_input": "2020-12-21T16:10:27.300946Z",
     "iopub.status.busy": "2020-12-21T16:10:27.300187Z",
     "iopub.status.idle": "2020-12-21T16:10:27.302919Z",
     "shell.execute_reply": "2020-12-21T16:10:27.303457Z"
    },
    "papermill": {
     "duration": 0.055289,
     "end_time": "2020-12-21T16:10:27.303603",
     "exception": false,
     "start_time": "2020-12-21T16:10:27.248314",
     "status": "completed"
    },
    "tags": []
   },
   "outputs": [],
   "source": [
    "base_all = pd.concat([base_numerical, base_categorical], axis = 1)"
   ]
  },
  {
   "cell_type": "code",
   "execution_count": 28,
   "metadata": {
    "execution": {
     "iopub.execute_input": "2020-12-21T16:10:27.399091Z",
     "iopub.status.busy": "2020-12-21T16:10:27.398351Z",
     "iopub.status.idle": "2020-12-21T16:10:27.415301Z",
     "shell.execute_reply": "2020-12-21T16:10:27.415816Z"
    },
    "papermill": {
     "duration": 0.066521,
     "end_time": "2020-12-21T16:10:27.415998",
     "exception": false,
     "start_time": "2020-12-21T16:10:27.349477",
     "status": "completed"
    },
    "tags": []
   },
   "outputs": [
    {
     "data": {
      "text/html": [
       "<div>\n",
       "<style scoped>\n",
       "    .dataframe tbody tr th:only-of-type {\n",
       "        vertical-align: middle;\n",
       "    }\n",
       "\n",
       "    .dataframe tbody tr th {\n",
       "        vertical-align: top;\n",
       "    }\n",
       "\n",
       "    .dataframe thead th {\n",
       "        text-align: right;\n",
       "    }\n",
       "</style>\n",
       "<table border=\"1\" class=\"dataframe\">\n",
       "  <thead>\n",
       "    <tr style=\"text-align: right;\">\n",
       "      <th></th>\n",
       "      <th>protests</th>\n",
       "      <th>amount due</th>\n",
       "      <th>rent amount</th>\n",
       "      <th>consumes</th>\n",
       "      <th>city</th>\n",
       "      <th>commerce</th>\n",
       "      <th>consumes</th>\n",
       "      <th>equipment</th>\n",
       "    </tr>\n",
       "  </thead>\n",
       "  <tbody>\n",
       "    <tr>\n",
       "      <th>0</th>\n",
       "      <td>0</td>\n",
       "      <td>0.0</td>\n",
       "      <td>142</td>\n",
       "      <td>0</td>\n",
       "      <td>1</td>\n",
       "      <td>1</td>\n",
       "      <td>0</td>\n",
       "      <td>0</td>\n",
       "    </tr>\n",
       "    <tr>\n",
       "      <th>1</th>\n",
       "      <td>0</td>\n",
       "      <td>0.0</td>\n",
       "      <td>83</td>\n",
       "      <td>0</td>\n",
       "      <td>1</td>\n",
       "      <td>3</td>\n",
       "      <td>0</td>\n",
       "      <td>0</td>\n",
       "    </tr>\n",
       "    <tr>\n",
       "      <th>2</th>\n",
       "      <td>0</td>\n",
       "      <td>0.0</td>\n",
       "      <td>99</td>\n",
       "      <td>1</td>\n",
       "      <td>0</td>\n",
       "      <td>5</td>\n",
       "      <td>1</td>\n",
       "      <td>0</td>\n",
       "    </tr>\n",
       "    <tr>\n",
       "      <th>3</th>\n",
       "      <td>0</td>\n",
       "      <td>0.0</td>\n",
       "      <td>46</td>\n",
       "      <td>1</td>\n",
       "      <td>0</td>\n",
       "      <td>4</td>\n",
       "      <td>1</td>\n",
       "      <td>2</td>\n",
       "    </tr>\n",
       "    <tr>\n",
       "      <th>4</th>\n",
       "      <td>0</td>\n",
       "      <td>0.0</td>\n",
       "      <td>99</td>\n",
       "      <td>1</td>\n",
       "      <td>5</td>\n",
       "      <td>0</td>\n",
       "      <td>1</td>\n",
       "      <td>1</td>\n",
       "    </tr>\n",
       "    <tr>\n",
       "      <th>...</th>\n",
       "      <td>...</td>\n",
       "      <td>...</td>\n",
       "      <td>...</td>\n",
       "      <td>...</td>\n",
       "      <td>...</td>\n",
       "      <td>...</td>\n",
       "      <td>...</td>\n",
       "      <td>...</td>\n",
       "    </tr>\n",
       "    <tr>\n",
       "      <th>105</th>\n",
       "      <td>0</td>\n",
       "      <td>0.0</td>\n",
       "      <td>50</td>\n",
       "      <td>1</td>\n",
       "      <td>0</td>\n",
       "      <td>2</td>\n",
       "      <td>1</td>\n",
       "      <td>2</td>\n",
       "    </tr>\n",
       "    <tr>\n",
       "      <th>106</th>\n",
       "      <td>0</td>\n",
       "      <td>0.0</td>\n",
       "      <td>165</td>\n",
       "      <td>0</td>\n",
       "      <td>4</td>\n",
       "      <td>1</td>\n",
       "      <td>0</td>\n",
       "      <td>0</td>\n",
       "    </tr>\n",
       "    <tr>\n",
       "      <th>107</th>\n",
       "      <td>0</td>\n",
       "      <td>0.0</td>\n",
       "      <td>86</td>\n",
       "      <td>1</td>\n",
       "      <td>0</td>\n",
       "      <td>1</td>\n",
       "      <td>1</td>\n",
       "      <td>1</td>\n",
       "    </tr>\n",
       "    <tr>\n",
       "      <th>108</th>\n",
       "      <td>0</td>\n",
       "      <td>0.0</td>\n",
       "      <td>46</td>\n",
       "      <td>1</td>\n",
       "      <td>0</td>\n",
       "      <td>4</td>\n",
       "      <td>1</td>\n",
       "      <td>2</td>\n",
       "    </tr>\n",
       "    <tr>\n",
       "      <th>109</th>\n",
       "      <td>0</td>\n",
       "      <td>0.0</td>\n",
       "      <td>50</td>\n",
       "      <td>1</td>\n",
       "      <td>0</td>\n",
       "      <td>3</td>\n",
       "      <td>1</td>\n",
       "      <td>2</td>\n",
       "    </tr>\n",
       "  </tbody>\n",
       "</table>\n",
       "<p>110 rows × 8 columns</p>\n",
       "</div>"
      ],
      "text/plain": [
       "     protests  amount due  rent amount  consumes  city  commerce  consumes  \\\n",
       "0           0         0.0          142         0     1         1         0   \n",
       "1           0         0.0           83         0     1         3         0   \n",
       "2           0         0.0           99         1     0         5         1   \n",
       "3           0         0.0           46         1     0         4         1   \n",
       "4           0         0.0           99         1     5         0         1   \n",
       "..        ...         ...          ...       ...   ...       ...       ...   \n",
       "105         0         0.0           50         1     0         2         1   \n",
       "106         0         0.0          165         0     4         1         0   \n",
       "107         0         0.0           86         1     0         1         1   \n",
       "108         0         0.0           46         1     0         4         1   \n",
       "109         0         0.0           50         1     0         3         1   \n",
       "\n",
       "     equipment  \n",
       "0            0  \n",
       "1            0  \n",
       "2            0  \n",
       "3            2  \n",
       "4            1  \n",
       "..         ...  \n",
       "105          2  \n",
       "106          0  \n",
       "107          1  \n",
       "108          2  \n",
       "109          2  \n",
       "\n",
       "[110 rows x 8 columns]"
      ]
     },
     "execution_count": 28,
     "metadata": {},
     "output_type": "execute_result"
    }
   ],
   "source": [
    "base_all"
   ]
  },
  {
   "cell_type": "code",
   "execution_count": 29,
   "metadata": {
    "execution": {
     "iopub.execute_input": "2020-12-21T16:10:27.513328Z",
     "iopub.status.busy": "2020-12-21T16:10:27.512628Z",
     "iopub.status.idle": "2020-12-21T16:10:27.517246Z",
     "shell.execute_reply": "2020-12-21T16:10:27.517975Z"
    },
    "papermill": {
     "duration": 0.05509,
     "end_time": "2020-12-21T16:10:27.518136",
     "exception": false,
     "start_time": "2020-12-21T16:10:27.463046",
     "status": "completed"
    },
    "tags": []
   },
   "outputs": [],
   "source": [
    "targets = base[['target']].values"
   ]
  },
  {
   "cell_type": "markdown",
   "metadata": {
    "papermill": {
     "duration": 0.047149,
     "end_time": "2020-12-21T16:10:27.612368",
     "exception": false,
     "start_time": "2020-12-21T16:10:27.565219",
     "status": "completed"
    },
    "tags": []
   },
   "source": [
    "*We will use cross validation, because have low features.*"
   ]
  },
  {
   "cell_type": "markdown",
   "metadata": {
    "papermill": {
     "duration": 0.047213,
     "end_time": "2020-12-21T16:10:27.707303",
     "exception": false,
     "start_time": "2020-12-21T16:10:27.660090",
     "status": "completed"
    },
    "tags": []
   },
   "source": [
    "*We go use combined models for prediction, is best than use very tunnings.*"
   ]
  },
  {
   "cell_type": "code",
   "execution_count": 30,
   "metadata": {
    "execution": {
     "iopub.execute_input": "2020-12-21T16:10:27.804282Z",
     "iopub.status.busy": "2020-12-21T16:10:27.803607Z",
     "iopub.status.idle": "2020-12-21T16:10:27.808217Z",
     "shell.execute_reply": "2020-12-21T16:10:27.807682Z"
    },
    "papermill": {
     "duration": 0.054007,
     "end_time": "2020-12-21T16:10:27.808337",
     "exception": false,
     "start_time": "2020-12-21T16:10:27.754330",
     "status": "completed"
    },
    "tags": []
   },
   "outputs": [],
   "source": [
    "k = 4\n",
    "num_val_samples = len(base_all) // k"
   ]
  },
  {
   "cell_type": "code",
   "execution_count": 31,
   "metadata": {
    "execution": {
     "iopub.execute_input": "2020-12-21T16:10:27.906945Z",
     "iopub.status.busy": "2020-12-21T16:10:27.905922Z",
     "iopub.status.idle": "2020-12-21T16:11:27.509531Z",
     "shell.execute_reply": "2020-12-21T16:11:27.510095Z"
    },
    "papermill": {
     "duration": 59.654267,
     "end_time": "2020-12-21T16:11:27.510257",
     "exception": false,
     "start_time": "2020-12-21T16:10:27.855990",
     "status": "completed"
    },
    "tags": []
   },
   "outputs": [
    {
     "name": "stdout",
     "output_type": "stream",
     "text": [
      "processing fold # 0\n",
      " Average_precision:0.9846313107182673, ACU:0.9484126984126985\n",
      "processing fold # 1\n",
      " Average_precision:0.8201741069388129, ACU:0.8210227272727272\n",
      "processing fold # 2\n",
      " Average_precision:0.9673264861500156, ACU:0.9228395061728395\n",
      "processing fold # 3\n",
      " Average_precision:0.9771275777162204, ACU:0.944078947368421\n"
     ]
    }
   ],
   "source": [
    "from sklearn.ensemble import GradientBoostingClassifier\n",
    "from sklearn.model_selection import RandomizedSearchCV\n",
    "from sklearn.metrics import accuracy_score\n",
    "from sklearn.metrics import confusion_matrix\n",
    "from sklearn.metrics import classification_report\n",
    "from sklearn.metrics import average_precision_score, roc_auc_score\n",
    "\n",
    "gb = GradientBoostingClassifier()\n",
    "\n",
    "parameters_gb = {'learning_rate':(0.1,0.01), 'n_estimators':range(40,600,10),\n",
    "                'max_depth':range(2,12,2)\n",
    "              }\n",
    "\n",
    "clf_gb = RandomizedSearchCV(gb, parameters_gb)\n",
    "\n",
    "for i in range(k):\n",
    "    print('processing fold #', i)\n",
    "    #Validation\n",
    "    val_data = base_all[i * num_val_samples: (i + 1) * num_val_samples]\n",
    "    val_targets = targets[i * num_val_samples: (i + 1) * num_val_samples]\n",
    "    val_targets = np.ravel(val_targets)\n",
    "    #Training\n",
    "    partial_train_data = np.concatenate([base_all[:i * num_val_samples],base_all[(i + 1) * num_val_samples:]],axis=0)\n",
    "    partial_train_targets = np.concatenate([targets[:i * num_val_samples],targets[(i + 1) * num_val_samples:]],axis=0)\n",
    "    partial_train_targets = np.ravel(partial_train_targets)\n",
    "\n",
    "    clf_gb.fit(partial_train_data, partial_train_targets)\n",
    "    y_gb = clf_gb.predict_proba(val_data)[:, 1]\n",
    "    print(f\" Average_precision:{average_precision_score(val_targets, y_gb)}, ACU:{roc_auc_score(val_targets, y_gb)}\")"
   ]
  },
  {
   "cell_type": "code",
   "execution_count": 32,
   "metadata": {
    "execution": {
     "iopub.execute_input": "2020-12-21T16:11:27.624406Z",
     "iopub.status.busy": "2020-12-21T16:11:27.620514Z",
     "iopub.status.idle": "2020-12-21T16:11:40.582093Z",
     "shell.execute_reply": "2020-12-21T16:11:40.583973Z"
    },
    "papermill": {
     "duration": 13.023085,
     "end_time": "2020-12-21T16:11:40.584210",
     "exception": false,
     "start_time": "2020-12-21T16:11:27.561125",
     "status": "completed"
    },
    "tags": []
   },
   "outputs": [
    {
     "data": {
      "text/html": [
       "<style type='text/css'>\n",
       ".datatable table.frame { margin-bottom: 0; }\n",
       ".datatable table.frame thead { border-bottom: none; }\n",
       ".datatable table.frame tr.coltypes td {  color: #FFFFFF;  line-height: 6px;  padding: 0 0.5em;}\n",
       ".datatable .bool    { background: #DDDD99; }\n",
       ".datatable .object  { background: #565656; }\n",
       ".datatable .int     { background: #5D9E5D; }\n",
       ".datatable .float   { background: #4040CC; }\n",
       ".datatable .str     { background: #CC4040; }\n",
       ".datatable .row_index {  background: var(--jp-border-color3);  border-right: 1px solid var(--jp-border-color0);  color: var(--jp-ui-font-color3);  font-size: 9px;}\n",
       ".datatable .frame tr.coltypes .row_index {  background: var(--jp-border-color0);}\n",
       ".datatable th:nth-child(2) { padding-left: 12px; }\n",
       ".datatable .hellipsis {  color: var(--jp-cell-editor-border-color);}\n",
       ".datatable .vellipsis {  background: var(--jp-layout-color0);  color: var(--jp-cell-editor-border-color);}\n",
       ".datatable .na {  color: var(--jp-cell-editor-border-color);  font-size: 80%;}\n",
       ".datatable .footer { font-size: 9px; }\n",
       ".datatable .frame_dimensions {  background: var(--jp-border-color3);  border-top: 1px solid var(--jp-border-color0);  color: var(--jp-ui-font-color3);  display: inline-block;  opacity: 0.6;  padding: 1px 10px 1px 5px;}\n",
       ".datatable .frame thead tr.colnames {  background-image: url('data:image/png;base64,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');  background-repeat: repeat-x;  background-size: 14px;  height: 28px;}\n",
       "</style>\n"
      ],
      "text/plain": [
       "<IPython.core.display.HTML object>"
      ]
     },
     "metadata": {},
     "output_type": "display_data"
    },
    {
     "name": "stdout",
     "output_type": "stream",
     "text": [
      "processing fold # 0\n",
      " Average_precision:0.9846313107182674, ACU:0.9444444444444445\n",
      "processing fold # 1\n",
      " Average_precision:0.8396990740740741, ACU:0.8465909090909091\n",
      "processing fold # 2\n",
      " Average_precision:0.9106753812636165, ACU:0.8888888888888888\n",
      "processing fold # 3\n",
      " Average_precision:0.8898635477582846, ACU:0.8289473684210527\n"
     ]
    }
   ],
   "source": [
    "from lightgbm import LGBMClassifier\n",
    "\n",
    "lgbm = LGBMClassifier(num_leaves=2, class_weight=\"balanced\", n_jobs=6)\n",
    "\n",
    "parameters_lgbm = {'learning_rate':(0.1,0.01), 'n_estimators':range(40,600,10),\n",
    "                'max_depth':range(2,12,2),\n",
    "              }\n",
    "\n",
    "clf_lgbm = RandomizedSearchCV(lgbm, parameters_lgbm)\n",
    "\n",
    "for i in range(k):\n",
    "    print('processing fold #', i)\n",
    "    #Validation\n",
    "    val_data = base_all[i * num_val_samples: (i + 1) * num_val_samples]\n",
    "    val_targets = targets[i * num_val_samples: (i + 1) * num_val_samples]\n",
    "    val_targets = np.ravel(val_targets)\n",
    "    #Training\n",
    "    partial_train_data = np.concatenate([base_all[:i * num_val_samples],base_all[(i + 1) * num_val_samples:]],axis=0)\n",
    "    partial_train_targets = np.concatenate([targets[:i * num_val_samples],targets[(i + 1) * num_val_samples:]],axis=0)\n",
    "    partial_train_targets = np.ravel(partial_train_targets)\n",
    "\n",
    "    clf_lgbm.fit(partial_train_data, partial_train_targets)\n",
    "    y_lgbm = clf_lgbm.predict_proba(val_data)[:, 1]\n",
    "    print(f\" Average_precision:{average_precision_score(val_targets, y_lgbm)}, ACU:{roc_auc_score(val_targets, y_lgbm)}\")"
   ]
  },
  {
   "cell_type": "markdown",
   "metadata": {
    "papermill": {
     "duration": 0.089693,
     "end_time": "2020-12-21T16:11:40.801637",
     "exception": false,
     "start_time": "2020-12-21T16:11:40.711944",
     "status": "completed"
    },
    "tags": []
   },
   "source": [
    "**Combined models - Fold 3**"
   ]
  },
  {
   "cell_type": "code",
   "execution_count": 33,
   "metadata": {
    "execution": {
     "iopub.execute_input": "2020-12-21T16:11:40.910553Z",
     "iopub.status.busy": "2020-12-21T16:11:40.909523Z",
     "iopub.status.idle": "2020-12-21T16:11:40.913570Z",
     "shell.execute_reply": "2020-12-21T16:11:40.912736Z"
    },
    "papermill": {
     "duration": 0.060102,
     "end_time": "2020-12-21T16:11:40.913758",
     "exception": false,
     "start_time": "2020-12-21T16:11:40.853656",
     "status": "completed"
    },
    "tags": []
   },
   "outputs": [],
   "source": [
    "y_all = (y_gb*0.5) + (y_lgbm*0.5)"
   ]
  },
  {
   "cell_type": "code",
   "execution_count": 34,
   "metadata": {
    "execution": {
     "iopub.execute_input": "2020-12-21T16:11:41.023908Z",
     "iopub.status.busy": "2020-12-21T16:11:41.022796Z",
     "iopub.status.idle": "2020-12-21T16:11:41.029815Z",
     "shell.execute_reply": "2020-12-21T16:11:41.030486Z"
    },
    "papermill": {
     "duration": 0.064477,
     "end_time": "2020-12-21T16:11:41.030629",
     "exception": false,
     "start_time": "2020-12-21T16:11:40.966152",
     "status": "completed"
    },
    "tags": []
   },
   "outputs": [
    {
     "name": "stdout",
     "output_type": "stream",
     "text": [
      " Average_precision:0.9771490775442218, ACU:0.9407894736842105\n"
     ]
    }
   ],
   "source": [
    "print(f\" Average_precision:{average_precision_score(val_targets, y_all)}, ACU:{roc_auc_score(val_targets, y_all)}\")"
   ]
  }
 ],
 "metadata": {
  "kernelspec": {
   "display_name": "Python 3",
   "language": "python",
   "name": "python3"
  },
  "language_info": {
   "codemirror_mode": {
    "name": "ipython",
    "version": 3
   },
   "file_extension": ".py",
   "mimetype": "text/x-python",
   "name": "python",
   "nbconvert_exporter": "python",
   "pygments_lexer": "ipython3",
   "version": "3.7.6"
  },
  "papermill": {
   "duration": 86.26389,
   "end_time": "2020-12-21T16:11:41.189766",
   "environment_variables": {},
   "exception": null,
   "input_path": "__notebook__.ipynb",
   "output_path": "__notebook__.ipynb",
   "parameters": {},
   "start_time": "2020-12-21T16:10:14.925876",
   "version": "2.1.0"
  }
 },
 "nbformat": 4,
 "nbformat_minor": 4
}
